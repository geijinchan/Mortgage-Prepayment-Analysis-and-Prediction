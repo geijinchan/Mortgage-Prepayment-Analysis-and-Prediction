{
 "cells": [
  {
   "cell_type": "code",
   "execution_count": 1,
   "id": "1ff6ba99",
   "metadata": {},
   "outputs": [],
   "source": [
    "import pandas as pd"
   ]
  },
  {
   "cell_type": "code",
   "execution_count": 55,
   "id": "774eb0b3",
   "metadata": {},
   "outputs": [],
   "source": [
    "data = pd.read_csv('companies.csv')"
   ]
  },
  {
   "cell_type": "code",
   "execution_count": 56,
   "id": "b587ce71",
   "metadata": {},
   "outputs": [
    {
     "data": {
      "text/html": [
       "<div>\n",
       "<style scoped>\n",
       "    .dataframe tbody tr th:only-of-type {\n",
       "        vertical-align: middle;\n",
       "    }\n",
       "\n",
       "    .dataframe tbody tr th {\n",
       "        vertical-align: top;\n",
       "    }\n",
       "\n",
       "    .dataframe thead th {\n",
       "        text-align: right;\n",
       "    }\n",
       "</style>\n",
       "<table border=\"1\" class=\"dataframe\">\n",
       "  <thead>\n",
       "    <tr style=\"text-align: right;\">\n",
       "      <th></th>\n",
       "      <th>id</th>\n",
       "      <th>Unnamed: 0.1</th>\n",
       "      <th>entity_type</th>\n",
       "      <th>entity_id</th>\n",
       "      <th>parent_id</th>\n",
       "      <th>name</th>\n",
       "      <th>normalized_name</th>\n",
       "      <th>permalink</th>\n",
       "      <th>category_code</th>\n",
       "      <th>status</th>\n",
       "      <th>...</th>\n",
       "      <th>first_milestone_at</th>\n",
       "      <th>last_milestone_at</th>\n",
       "      <th>milestones</th>\n",
       "      <th>relationships</th>\n",
       "      <th>created_by</th>\n",
       "      <th>created_at</th>\n",
       "      <th>updated_at</th>\n",
       "      <th>lat</th>\n",
       "      <th>lng</th>\n",
       "      <th>ROI</th>\n",
       "    </tr>\n",
       "  </thead>\n",
       "  <tbody>\n",
       "    <tr>\n",
       "      <th>0</th>\n",
       "      <td>c:1</td>\n",
       "      <td>0</td>\n",
       "      <td>Company</td>\n",
       "      <td>1</td>\n",
       "      <td>NaN</td>\n",
       "      <td>Wetpaint</td>\n",
       "      <td>wetpaint</td>\n",
       "      <td>/company/wetpaint</td>\n",
       "      <td>web</td>\n",
       "      <td>operating</td>\n",
       "      <td>...</td>\n",
       "      <td>2010-09-05</td>\n",
       "      <td>2013-09-18</td>\n",
       "      <td>5.0</td>\n",
       "      <td>17.0</td>\n",
       "      <td>initial-importer</td>\n",
       "      <td>2007-05-25 06:51:27</td>\n",
       "      <td>2013-04-13 03:29:00</td>\n",
       "      <td>47.606209</td>\n",
       "      <td>-122.332071</td>\n",
       "      <td>15.5</td>\n",
       "    </tr>\n",
       "    <tr>\n",
       "      <th>1</th>\n",
       "      <td>c:10</td>\n",
       "      <td>1</td>\n",
       "      <td>Company</td>\n",
       "      <td>10</td>\n",
       "      <td>NaN</td>\n",
       "      <td>Flektor</td>\n",
       "      <td>flektor</td>\n",
       "      <td>/company/flektor</td>\n",
       "      <td>games_video</td>\n",
       "      <td>acquired</td>\n",
       "      <td>...</td>\n",
       "      <td>NaN</td>\n",
       "      <td>NaN</td>\n",
       "      <td>NaN</td>\n",
       "      <td>6.0</td>\n",
       "      <td>initial-importer</td>\n",
       "      <td>2007-05-31 21:11:51</td>\n",
       "      <td>2008-05-23 23:23:14</td>\n",
       "      <td>34.021122</td>\n",
       "      <td>-118.396467</td>\n",
       "      <td>NaN</td>\n",
       "    </tr>\n",
       "    <tr>\n",
       "      <th>2</th>\n",
       "      <td>c:100</td>\n",
       "      <td>2</td>\n",
       "      <td>Company</td>\n",
       "      <td>100</td>\n",
       "      <td>NaN</td>\n",
       "      <td>There</td>\n",
       "      <td>there</td>\n",
       "      <td>/company/there</td>\n",
       "      <td>games_video</td>\n",
       "      <td>acquired</td>\n",
       "      <td>...</td>\n",
       "      <td>2003-02-01</td>\n",
       "      <td>2011-09-23</td>\n",
       "      <td>4.0</td>\n",
       "      <td>12.0</td>\n",
       "      <td>initial-importer</td>\n",
       "      <td>2007-08-06 23:52:45</td>\n",
       "      <td>2013-11-04 02:09:48</td>\n",
       "      <td>37.562992</td>\n",
       "      <td>-122.325525</td>\n",
       "      <td>NaN</td>\n",
       "    </tr>\n",
       "    <tr>\n",
       "      <th>3</th>\n",
       "      <td>c:10000</td>\n",
       "      <td>3</td>\n",
       "      <td>Company</td>\n",
       "      <td>10000</td>\n",
       "      <td>NaN</td>\n",
       "      <td>MYWEBBO</td>\n",
       "      <td>mywebbo</td>\n",
       "      <td>/company/mywebbo</td>\n",
       "      <td>network_hosting</td>\n",
       "      <td>operating</td>\n",
       "      <td>...</td>\n",
       "      <td>NaN</td>\n",
       "      <td>NaN</td>\n",
       "      <td>NaN</td>\n",
       "      <td>NaN</td>\n",
       "      <td>NaN</td>\n",
       "      <td>2008-08-24 16:51:57</td>\n",
       "      <td>2008-09-06 14:19:18</td>\n",
       "      <td>NaN</td>\n",
       "      <td>NaN</td>\n",
       "      <td>NaN</td>\n",
       "    </tr>\n",
       "    <tr>\n",
       "      <th>4</th>\n",
       "      <td>c:10001</td>\n",
       "      <td>4</td>\n",
       "      <td>Company</td>\n",
       "      <td>10001</td>\n",
       "      <td>NaN</td>\n",
       "      <td>THE Movie Streamer</td>\n",
       "      <td>the movie streamer</td>\n",
       "      <td>/company/the-movie-streamer</td>\n",
       "      <td>games_video</td>\n",
       "      <td>operating</td>\n",
       "      <td>...</td>\n",
       "      <td>NaN</td>\n",
       "      <td>NaN</td>\n",
       "      <td>NaN</td>\n",
       "      <td>NaN</td>\n",
       "      <td>NaN</td>\n",
       "      <td>2008-08-24 17:10:34</td>\n",
       "      <td>2008-09-06 14:19:18</td>\n",
       "      <td>NaN</td>\n",
       "      <td>NaN</td>\n",
       "      <td>NaN</td>\n",
       "    </tr>\n",
       "  </tbody>\n",
       "</table>\n",
       "<p>5 rows × 44 columns</p>\n",
       "</div>"
      ],
      "text/plain": [
       "        id  Unnamed: 0.1 entity_type  entity_id  parent_id  \\\n",
       "0      c:1             0     Company          1        NaN   \n",
       "1     c:10             1     Company         10        NaN   \n",
       "2    c:100             2     Company        100        NaN   \n",
       "3  c:10000             3     Company      10000        NaN   \n",
       "4  c:10001             4     Company      10001        NaN   \n",
       "\n",
       "                 name     normalized_name                    permalink  \\\n",
       "0            Wetpaint            wetpaint            /company/wetpaint   \n",
       "1             Flektor             flektor             /company/flektor   \n",
       "2               There               there               /company/there   \n",
       "3             MYWEBBO             mywebbo             /company/mywebbo   \n",
       "4  THE Movie Streamer  the movie streamer  /company/the-movie-streamer   \n",
       "\n",
       "     category_code     status  ... first_milestone_at last_milestone_at  \\\n",
       "0              web  operating  ...         2010-09-05        2013-09-18   \n",
       "1      games_video   acquired  ...                NaN               NaN   \n",
       "2      games_video   acquired  ...         2003-02-01        2011-09-23   \n",
       "3  network_hosting  operating  ...                NaN               NaN   \n",
       "4      games_video  operating  ...                NaN               NaN   \n",
       "\n",
       "  milestones relationships        created_by           created_at  \\\n",
       "0        5.0          17.0  initial-importer  2007-05-25 06:51:27   \n",
       "1        NaN           6.0  initial-importer  2007-05-31 21:11:51   \n",
       "2        4.0          12.0  initial-importer  2007-08-06 23:52:45   \n",
       "3        NaN           NaN               NaN  2008-08-24 16:51:57   \n",
       "4        NaN           NaN               NaN  2008-08-24 17:10:34   \n",
       "\n",
       "            updated_at        lat         lng   ROI  \n",
       "0  2013-04-13 03:29:00  47.606209 -122.332071  15.5  \n",
       "1  2008-05-23 23:23:14  34.021122 -118.396467   NaN  \n",
       "2  2013-11-04 02:09:48  37.562992 -122.325525   NaN  \n",
       "3  2008-09-06 14:19:18        NaN         NaN   NaN  \n",
       "4  2008-09-06 14:19:18        NaN         NaN   NaN  \n",
       "\n",
       "[5 rows x 44 columns]"
      ]
     },
     "execution_count": 56,
     "metadata": {},
     "output_type": "execute_result"
    }
   ],
   "source": [
    "data.head()"
   ]
  },
  {
   "cell_type": "markdown",
   "id": "3dd34bd2",
   "metadata": {},
   "source": [
    "### Data cleaning"
   ]
  },
  {
   "cell_type": "code",
   "execution_count": 57,
   "id": "2658a472",
   "metadata": {},
   "outputs": [
    {
     "name": "stdout",
     "output_type": "stream",
     "text": [
      "id                       0.000000\n",
      "Unnamed: 0.1             0.000000\n",
      "entity_type              0.000000\n",
      "entity_id                0.000000\n",
      "parent_id              100.000000\n",
      "name                     0.011702\n",
      "normalized_name          0.013228\n",
      "permalink                0.000000\n",
      "category_code           37.326828\n",
      "status                   0.000000\n",
      "founded_at              53.586564\n",
      "closed_at               98.667026\n",
      "domain                  35.617874\n",
      "homepage_url            35.617874\n",
      "twitter_username        58.997828\n",
      "logo_url                43.979486\n",
      "logo_width              43.979486\n",
      "logo_height             43.979486\n",
      "short_description       96.371971\n",
      "description             53.168865\n",
      "overview                35.401139\n",
      "tag_list                58.559778\n",
      "country_code            55.233448\n",
      "state_code              74.102151\n",
      "city                    57.319400\n",
      "region                   0.000000\n",
      "first_investment_at     98.685851\n",
      "last_investment_at      98.685851\n",
      "investment_rounds       98.681780\n",
      "invested_companies      98.681780\n",
      "first_funding_at        83.970227\n",
      "last_funding_at         83.970227\n",
      "funding_rounds          83.868473\n",
      "funding_total_usd       85.818583\n",
      "first_milestone_at      53.346426\n",
      "last_milestone_at       53.346426\n",
      "milestones              53.346426\n",
      "relationships           34.029498\n",
      "created_by              20.869689\n",
      "created_at               0.000000\n",
      "updated_at               0.000000\n",
      "lat                     57.338733\n",
      "lng                     57.338733\n",
      "ROI                     99.630634\n",
      "dtype: float64\n"
     ]
    }
   ],
   "source": [
    "null_percentage = data.isnull().sum() / len(data) * 100\n",
    "\n",
    "print(null_percentage)"
   ]
  },
  {
   "cell_type": "code",
   "execution_count": 58,
   "id": "c093a644",
   "metadata": {},
   "outputs": [
    {
     "data": {
      "text/plain": [
       "(196553, 19)"
      ]
     },
     "execution_count": 58,
     "metadata": {},
     "output_type": "execute_result"
    }
   ],
   "source": [
    "drop_columns = ['id','Unnamed: 0.1','entity_id','entity_type', 'parent_id','normalized_name', 'permalink','domain', 'homepage_url', 'twitter_username', 'logo_url',\n",
    "       'logo_width', 'logo_height', 'short_description', 'description','region',\n",
    "       'overview', 'tag_list','country_code', 'state_code', 'city', 'created_by','lat','lng','ROI']\n",
    "\n",
    "data.drop(columns=drop_columns, inplace=True)\n",
    "data.shape"
   ]
  },
  {
   "cell_type": "code",
   "execution_count": 59,
   "id": "6481b113",
   "metadata": {},
   "outputs": [
    {
     "data": {
      "text/plain": [
       "status\n",
       "closed      2584\n",
       "acquired      36\n",
       "Name: count, dtype: int64"
      ]
     },
     "execution_count": 59,
     "metadata": {},
     "output_type": "execute_result"
    }
   ],
   "source": [
    "data.loc[~data['closed_at'].isnull(), 'status'].value_counts()"
   ]
  },
  {
   "cell_type": "code",
   "execution_count": 60,
   "id": "f0299c2e",
   "metadata": {},
   "outputs": [
    {
     "data": {
      "text/html": [
       "<div>\n",
       "<style scoped>\n",
       "    .dataframe tbody tr th:only-of-type {\n",
       "        vertical-align: middle;\n",
       "    }\n",
       "\n",
       "    .dataframe tbody tr th {\n",
       "        vertical-align: top;\n",
       "    }\n",
       "\n",
       "    .dataframe thead th {\n",
       "        text-align: right;\n",
       "    }\n",
       "</style>\n",
       "<table border=\"1\" class=\"dataframe\">\n",
       "  <thead>\n",
       "    <tr style=\"text-align: right;\">\n",
       "      <th></th>\n",
       "      <th>investment_rounds</th>\n",
       "      <th>invested_companies</th>\n",
       "      <th>funding_rounds</th>\n",
       "      <th>funding_total_usd</th>\n",
       "      <th>milestones</th>\n",
       "      <th>relationships</th>\n",
       "    </tr>\n",
       "  </thead>\n",
       "  <tbody>\n",
       "    <tr>\n",
       "      <th>count</th>\n",
       "      <td>2591.000000</td>\n",
       "      <td>2591.000000</td>\n",
       "      <td>31707.000000</td>\n",
       "      <td>2.787400e+04</td>\n",
       "      <td>91699.000000</td>\n",
       "      <td>129667.000000</td>\n",
       "    </tr>\n",
       "    <tr>\n",
       "      <th>mean</th>\n",
       "      <td>2.372057</td>\n",
       "      <td>2.204940</td>\n",
       "      <td>1.659760</td>\n",
       "      <td>1.481652e+07</td>\n",
       "      <td>1.199402</td>\n",
       "      <td>2.852067</td>\n",
       "    </tr>\n",
       "    <tr>\n",
       "      <th>std</th>\n",
       "      <td>12.173510</td>\n",
       "      <td>11.436955</td>\n",
       "      <td>1.201666</td>\n",
       "      <td>6.775937e+07</td>\n",
       "      <td>0.540099</td>\n",
       "      <td>9.100309</td>\n",
       "    </tr>\n",
       "    <tr>\n",
       "      <th>min</th>\n",
       "      <td>1.000000</td>\n",
       "      <td>1.000000</td>\n",
       "      <td>1.000000</td>\n",
       "      <td>2.910000e+02</td>\n",
       "      <td>1.000000</td>\n",
       "      <td>1.000000</td>\n",
       "    </tr>\n",
       "    <tr>\n",
       "      <th>25%</th>\n",
       "      <td>1.000000</td>\n",
       "      <td>1.000000</td>\n",
       "      <td>1.000000</td>\n",
       "      <td>5.000000e+05</td>\n",
       "      <td>1.000000</td>\n",
       "      <td>1.000000</td>\n",
       "    </tr>\n",
       "    <tr>\n",
       "      <th>50%</th>\n",
       "      <td>1.000000</td>\n",
       "      <td>1.000000</td>\n",
       "      <td>1.000000</td>\n",
       "      <td>2.564500e+06</td>\n",
       "      <td>1.000000</td>\n",
       "      <td>1.000000</td>\n",
       "    </tr>\n",
       "    <tr>\n",
       "      <th>75%</th>\n",
       "      <td>1.000000</td>\n",
       "      <td>1.000000</td>\n",
       "      <td>2.000000</td>\n",
       "      <td>1.100000e+07</td>\n",
       "      <td>1.000000</td>\n",
       "      <td>3.000000</td>\n",
       "    </tr>\n",
       "    <tr>\n",
       "      <th>max</th>\n",
       "      <td>478.000000</td>\n",
       "      <td>459.000000</td>\n",
       "      <td>15.000000</td>\n",
       "      <td>5.700000e+09</td>\n",
       "      <td>9.000000</td>\n",
       "      <td>1189.000000</td>\n",
       "    </tr>\n",
       "  </tbody>\n",
       "</table>\n",
       "</div>"
      ],
      "text/plain": [
       "       investment_rounds  invested_companies  funding_rounds  \\\n",
       "count        2591.000000         2591.000000    31707.000000   \n",
       "mean            2.372057            2.204940        1.659760   \n",
       "std            12.173510           11.436955        1.201666   \n",
       "min             1.000000            1.000000        1.000000   \n",
       "25%             1.000000            1.000000        1.000000   \n",
       "50%             1.000000            1.000000        1.000000   \n",
       "75%             1.000000            1.000000        2.000000   \n",
       "max           478.000000          459.000000       15.000000   \n",
       "\n",
       "       funding_total_usd    milestones  relationships  \n",
       "count       2.787400e+04  91699.000000  129667.000000  \n",
       "mean        1.481652e+07      1.199402       2.852067  \n",
       "std         6.775937e+07      0.540099       9.100309  \n",
       "min         2.910000e+02      1.000000       1.000000  \n",
       "25%         5.000000e+05      1.000000       1.000000  \n",
       "50%         2.564500e+06      1.000000       1.000000  \n",
       "75%         1.100000e+07      1.000000       3.000000  \n",
       "max         5.700000e+09      9.000000    1189.000000  "
      ]
     },
     "execution_count": 60,
     "metadata": {},
     "output_type": "execute_result"
    }
   ],
   "source": [
    "data.describe()"
   ]
  },
  {
   "cell_type": "code",
   "execution_count": 61,
   "id": "c63499dd",
   "metadata": {},
   "outputs": [
    {
     "data": {
      "text/plain": [
       "Index(['name', 'category_code', 'status', 'founded_at', 'closed_at',\n",
       "       'first_investment_at', 'last_investment_at', 'investment_rounds',\n",
       "       'invested_companies', 'first_funding_at', 'last_funding_at',\n",
       "       'funding_rounds', 'funding_total_usd', 'first_milestone_at',\n",
       "       'last_milestone_at', 'milestones', 'relationships', 'created_at',\n",
       "       'updated_at'],\n",
       "      dtype='object')"
      ]
     },
     "execution_count": 61,
     "metadata": {},
     "output_type": "execute_result"
    }
   ],
   "source": [
    "data.columns"
   ]
  },
  {
   "cell_type": "code",
   "execution_count": 62,
   "id": "fe75f738",
   "metadata": {},
   "outputs": [],
   "source": [
    "data = data[~((data['closed_at'].notnull()) & (data['status'] == 'acquired'))]"
   ]
  },
  {
   "cell_type": "code",
   "execution_count": 63,
   "id": "40198a57",
   "metadata": {},
   "outputs": [
    {
     "data": {
      "text/plain": [
       "status\n",
       "operating    183441\n",
       "acquired       9358\n",
       "closed         2584\n",
       "ipo            1134\n",
       "Name: count, dtype: int64"
      ]
     },
     "execution_count": 63,
     "metadata": {},
     "output_type": "execute_result"
    }
   ],
   "source": [
    "data['status'].value_counts()"
   ]
  },
  {
   "cell_type": "code",
   "execution_count": 64,
   "id": "f1022c12",
   "metadata": {},
   "outputs": [],
   "source": [
    "if data.duplicated().sum() is True:\n",
    "    df.drop_duplicates(inplace=True)"
   ]
  },
  {
   "cell_type": "code",
   "execution_count": 65,
   "id": "5d81beae",
   "metadata": {},
   "outputs": [
    {
     "data": {
      "text/plain": [
       "(196517, 19)"
      ]
     },
     "execution_count": 65,
     "metadata": {},
     "output_type": "execute_result"
    }
   ],
   "source": [
    "data.shape"
   ]
  },
  {
   "cell_type": "markdown",
   "id": "8a10b246",
   "metadata": {},
   "source": [
    "### Data Encoding & Preprocessing"
   ]
  },
  {
   "cell_type": "code",
   "execution_count": 66,
   "id": "a59c7116",
   "metadata": {},
   "outputs": [],
   "source": [
    "date_columns = ['founded_at', 'closed_at', 'created_at', 'updated_at', 'first_investment_at','last_investment_at','first_milestone_at','last_milestone_at']\n",
    "for col in date_columns:\n",
    "    data[col] = pd.to_datetime(data[col])"
   ]
  },
  {
   "cell_type": "code",
   "execution_count": 67,
   "id": "5503474f",
   "metadata": {},
   "outputs": [
    {
     "data": {
      "text/plain": [
       "name                       23\n",
       "category_code           73367\n",
       "status                      0\n",
       "founded_at             105326\n",
       "closed_at              193933\n",
       "first_investment_at    193934\n",
       "last_investment_at     193934\n",
       "investment_rounds      193926\n",
       "invested_companies     193926\n",
       "first_funding_at       165035\n",
       "last_funding_at        165035\n",
       "funding_rounds         164835\n",
       "funding_total_usd      168665\n",
       "first_milestone_at     104846\n",
       "last_milestone_at      104846\n",
       "milestones             104846\n",
       "relationships           66883\n",
       "created_at                  0\n",
       "updated_at                  0\n",
       "dtype: int64"
      ]
     },
     "execution_count": 67,
     "metadata": {},
     "output_type": "execute_result"
    }
   ],
   "source": [
    "data.isna().sum()"
   ]
  },
  {
   "cell_type": "code",
   "execution_count": 68,
   "id": "d2a664f8",
   "metadata": {},
   "outputs": [
    {
     "data": {
      "text/plain": [
       "0         19.0\n",
       "1          NaN\n",
       "2          NaN\n",
       "3         16.0\n",
       "4         16.0\n",
       "          ... \n",
       "196548    17.0\n",
       "196549    17.0\n",
       "196550    65.0\n",
       "196551    16.0\n",
       "196552    17.0\n",
       "Name: company_age, Length: 196517, dtype: float64"
      ]
     },
     "execution_count": 68,
     "metadata": {},
     "output_type": "execute_result"
    }
   ],
   "source": [
    "data['years_to_close'] = data['closed_at'] - data['founded_at']\n",
    "\n",
    "data['years_to_close'] = data['years_to_close'].dt.days / 365\n",
    "\n",
    "current_year = pd.to_datetime('today').year\n",
    "data['company_age'] = current_year - data['founded_at'].dt.year\n",
    "data['company_age']"
   ]
  },
  {
   "cell_type": "code",
   "execution_count": 69,
   "id": "4dcd4683",
   "metadata": {},
   "outputs": [],
   "source": [
    "data = data[data['name'].notna()]\n",
    "data =data[data['relationships'].notna()]\n",
    "data = data[data['company_age'].notna()]"
   ]
  },
  {
   "cell_type": "code",
   "execution_count": 71,
   "id": "fabbd286",
   "metadata": {},
   "outputs": [],
   "source": [
    "def milestone_categorizer(x):\n",
    "    if x <= 5:\n",
    "        return \"1-5\"\n",
    "    elif x <= 10:\n",
    "        return \"6-10\"\n",
    "    else:\n",
    "        return \"10+\"\n",
    "\n",
    "data['milestones_category'] = data['milestones'].apply(milestone_categorizer)\n",
    "data = data.drop('milestones', axis=1)"
   ]
  },
  {
   "cell_type": "code",
   "execution_count": 72,
   "id": "52bdf4eb",
   "metadata": {},
   "outputs": [
    {
     "data": {
      "text/plain": [
       "category_code\n",
       "software            9798\n",
       "web                 8671\n",
       "ecommerce           4296\n",
       "other               3957\n",
       "mobile              3845\n",
       "advertising         3331\n",
       "games_video         2956\n",
       "enterprise          2507\n",
       "consulting          2385\n",
       "biotech             2099\n",
       "public_relations    1424\n",
       "hardware            1207\n",
       "network_hosting     1203\n",
       "education           1120\n",
       "search               970\n",
       "cleantech            793\n",
       "social               735\n",
       "analytics            725\n",
       "finance              603\n",
       "security             575\n",
       "health               524\n",
       "medical              422\n",
       "semiconductor        364\n",
       "travel               326\n",
       "news                 322\n",
       "legal                258\n",
       "fashion              255\n",
       "hospitality          245\n",
       "manufacturing        225\n",
       "messaging            201\n",
       "music                195\n",
       "real_estate          193\n",
       "photo_video          185\n",
       "sports               136\n",
       "local                127\n",
       "nonprofit            115\n",
       "transportation       102\n",
       "design                99\n",
       "automotive            93\n",
       "nanotech              41\n",
       "pets                  33\n",
       "government            20\n",
       "Name: count, dtype: int64"
      ]
     },
     "execution_count": 72,
     "metadata": {},
     "output_type": "execute_result"
    }
   ],
   "source": [
    "cat_code = data['category_code'].value_counts()\n",
    "cat_code"
   ]
  },
  {
   "cell_type": "code",
   "execution_count": 73,
   "id": "0dfb3587",
   "metadata": {},
   "outputs": [],
   "source": [
    "data.dropna(subset=['category_code'], inplace=True)"
   ]
  },
  {
   "cell_type": "code",
   "execution_count": 74,
   "id": "9fe12002",
   "metadata": {},
   "outputs": [],
   "source": [
    "def cat_code_categorizer(x):\n",
    "    if x in ['software','web','ecommerce','games_video','mobile','enterprise','hardware','network_hosting','search','analytics','messaging','photo_video']:\n",
    "        return 'Technology & Software'\n",
    "    elif x in ['advertising','consulting','public_relations','legal','design']:\n",
    "        return 'Business Services'\n",
    "    elif x in ['biotech','nanotech','health','medical']:\n",
    "        return 'Healthcare & Biotechnology'\n",
    "    elif x in ['fashion','sports','automotive','pets','music','travel']:\n",
    "        return 'Consumer Goods & Services'\n",
    "    elif x in ['real_estate','finance']:\n",
    "        return 'Finance & Real Estate'\n",
    "    elif x in ['hospitality','local','nonprofit']:\n",
    "        return 'Hospitality & Services'\n",
    "    elif x in ['news','education','government','transportation','social','security']:\n",
    "        return 'Government & Public Sector'\n",
    "    elif x in ['cleantech','manufacturing','semiconductor']:\n",
    "        return 'Energy & Manufacturing'\n",
    "    else:\n",
    "        return 'Other'"
   ]
  },
  {
   "cell_type": "code",
   "execution_count": 75,
   "id": "b8d77024",
   "metadata": {},
   "outputs": [
    {
     "data": {
      "text/plain": [
       "category_code_new\n",
       "Technology & Software         36564\n",
       "Business Services              7497\n",
       "Other                          3957\n",
       "Healthcare & Biotechnology     3086\n",
       "Government & Public Sector     2874\n",
       "Energy & Manufacturing         1382\n",
       "Consumer Goods & Services      1038\n",
       "Finance & Real Estate           796\n",
       "Hospitality & Services          487\n",
       "Name: count, dtype: int64"
      ]
     },
     "execution_count": 75,
     "metadata": {},
     "output_type": "execute_result"
    }
   ],
   "source": [
    "data['category_code_new'] = data['category_code'].apply(cat_code_categorizer)\n",
    "data['category_code_new'].value_counts()"
   ]
  },
  {
   "cell_type": "code",
   "execution_count": 77,
   "id": "300296db",
   "metadata": {},
   "outputs": [
    {
     "name": "stdout",
     "output_type": "stream",
     "text": [
      "<class 'pandas.core.frame.DataFrame'>\n",
      "Index: 57681 entries, 0 to 196552\n",
      "Data columns (total 22 columns):\n",
      " #   Column               Non-Null Count  Dtype         \n",
      "---  ------               --------------  -----         \n",
      " 0   name                 57681 non-null  object        \n",
      " 1   category_code        57681 non-null  object        \n",
      " 2   status               57681 non-null  object        \n",
      " 3   founded_at           57681 non-null  datetime64[ns]\n",
      " 4   closed_at            1557 non-null   datetime64[ns]\n",
      " 5   first_investment_at  710 non-null    datetime64[ns]\n",
      " 6   last_investment_at   710 non-null    datetime64[ns]\n",
      " 7   investment_rounds    711 non-null    float64       \n",
      " 8   invested_companies   711 non-null    float64       \n",
      " 9   first_funding_at     20502 non-null  object        \n",
      " 10  last_funding_at      20502 non-null  object        \n",
      " 11  funding_rounds       20640 non-null  float64       \n",
      " 12  funding_total_usd    18470 non-null  float64       \n",
      " 13  first_milestone_at   39866 non-null  datetime64[ns]\n",
      " 14  last_milestone_at    39866 non-null  datetime64[ns]\n",
      " 15  relationships        57681 non-null  float64       \n",
      " 16  created_at           57681 non-null  datetime64[ns]\n",
      " 17  updated_at           57681 non-null  datetime64[ns]\n",
      " 18  years_to_close       1557 non-null   float64       \n",
      " 19  company_age          57681 non-null  float64       \n",
      " 20  milestones_category  57681 non-null  object        \n",
      " 21  category_code_new    57681 non-null  object        \n",
      "dtypes: datetime64[ns](8), float64(7), object(7)\n",
      "memory usage: 10.1+ MB\n"
     ]
    }
   ],
   "source": [
    "data.info()"
   ]
  },
  {
   "cell_type": "markdown",
   "id": "d909250f",
   "metadata": {},
   "source": [
    "## Feature Engineering"
   ]
  },
  {
   "cell_type": "code",
   "execution_count": 79,
   "id": "4b5ee460",
   "metadata": {},
   "outputs": [],
   "source": [
    "data['years_to_last_update'] = data['updated_at'] - data['created_at']\n",
    "data['years_to_last_update'] = data['years_to_last_update'].dt.days / 365\n",
    "data['funding_per_round'] = data['funding_total_usd'] / data['funding_rounds']\n",
    "data['years_from_first_to_last_investment'] = data['last_investment_at'] - data['first_investment_at']\n",
    "data['years_from_first_to_last_investment'] = data['years_from_first_to_last_investment'].dt.days / 365"
   ]
  },
  {
   "cell_type": "code",
   "execution_count": 81,
   "id": "203716b4",
   "metadata": {},
   "outputs": [],
   "source": [
    "data = data[data['funding_total_usd'].notna()]"
   ]
  },
  {
   "cell_type": "code",
   "execution_count": 86,
   "id": "e1209c95",
   "metadata": {},
   "outputs": [
    {
     "name": "stderr",
     "output_type": "stream",
     "text": [
      "C:\\Users\\user\\AppData\\Local\\Temp\\ipykernel_19340\\3000439755.py:1: SettingWithCopyWarning: \n",
      "A value is trying to be set on a copy of a slice from a DataFrame\n",
      "\n",
      "See the caveats in the documentation: https://pandas.pydata.org/pandas-docs/stable/user_guide/indexing.html#returning-a-view-versus-a-copy\n",
      "  data['closed_at'].fillna(0, inplace=True)\n",
      "C:\\Users\\user\\AppData\\Local\\Temp\\ipykernel_19340\\3000439755.py:2: FutureWarning: A value is trying to be set on a copy of a DataFrame or Series through chained assignment using an inplace method.\n",
      "The behavior will change in pandas 3.0. This inplace method will never work because the intermediate object on which we are setting values always behaves as a copy.\n",
      "\n",
      "For example, when doing 'df[col].method(value, inplace=True)', try using 'df.method({col: value}, inplace=True)' or df[col] = df[col].method(value) instead, to perform the operation inplace on the original object.\n",
      "\n",
      "\n",
      "  data['years_to_close'].fillna(0, inplace=True)\n",
      "C:\\Users\\user\\AppData\\Local\\Temp\\ipykernel_19340\\3000439755.py:2: SettingWithCopyWarning: \n",
      "A value is trying to be set on a copy of a slice from a DataFrame\n",
      "\n",
      "See the caveats in the documentation: https://pandas.pydata.org/pandas-docs/stable/user_guide/indexing.html#returning-a-view-versus-a-copy\n",
      "  data['years_to_close'].fillna(0, inplace=True)\n",
      "C:\\Users\\user\\AppData\\Local\\Temp\\ipykernel_19340\\3000439755.py:3: FutureWarning: A value is trying to be set on a copy of a DataFrame or Series through chained assignment using an inplace method.\n",
      "The behavior will change in pandas 3.0. This inplace method will never work because the intermediate object on which we are setting values always behaves as a copy.\n",
      "\n",
      "For example, when doing 'df[col].method(value, inplace=True)', try using 'df.method({col: value}, inplace=True)' or df[col] = df[col].method(value) instead, to perform the operation inplace on the original object.\n",
      "\n",
      "\n",
      "  data['investment_rounds'].fillna(0, inplace=True)\n",
      "C:\\Users\\user\\AppData\\Local\\Temp\\ipykernel_19340\\3000439755.py:3: SettingWithCopyWarning: \n",
      "A value is trying to be set on a copy of a slice from a DataFrame\n",
      "\n",
      "See the caveats in the documentation: https://pandas.pydata.org/pandas-docs/stable/user_guide/indexing.html#returning-a-view-versus-a-copy\n",
      "  data['investment_rounds'].fillna(0, inplace=True)\n",
      "C:\\Users\\user\\AppData\\Local\\Temp\\ipykernel_19340\\3000439755.py:4: FutureWarning: A value is trying to be set on a copy of a DataFrame or Series through chained assignment using an inplace method.\n",
      "The behavior will change in pandas 3.0. This inplace method will never work because the intermediate object on which we are setting values always behaves as a copy.\n",
      "\n",
      "For example, when doing 'df[col].method(value, inplace=True)', try using 'df.method({col: value}, inplace=True)' or df[col] = df[col].method(value) instead, to perform the operation inplace on the original object.\n",
      "\n",
      "\n",
      "  data['invested_companies'].fillna(0, inplace=True)\n",
      "C:\\Users\\user\\AppData\\Local\\Temp\\ipykernel_19340\\3000439755.py:4: SettingWithCopyWarning: \n",
      "A value is trying to be set on a copy of a slice from a DataFrame\n",
      "\n",
      "See the caveats in the documentation: https://pandas.pydata.org/pandas-docs/stable/user_guide/indexing.html#returning-a-view-versus-a-copy\n",
      "  data['invested_companies'].fillna(0, inplace=True)\n"
     ]
    }
   ],
   "source": [
    "data['closed_at'].fillna(0, inplace=True)\n",
    "data['years_to_close'].fillna(0, inplace=True)\n",
    "data['investment_rounds'].fillna(0, inplace=True)\n",
    "data['invested_companies'].fillna(0, inplace=True)"
   ]
  },
  {
   "cell_type": "code",
   "execution_count": 88,
   "id": "1945f0b4",
   "metadata": {},
   "outputs": [
    {
     "name": "stderr",
     "output_type": "stream",
     "text": [
      "C:\\Users\\user\\AppData\\Local\\Temp\\ipykernel_19340\\1635772619.py:1: SettingWithCopyWarning: \n",
      "A value is trying to be set on a copy of a slice from a DataFrame\n",
      "\n",
      "See the caveats in the documentation: https://pandas.pydata.org/pandas-docs/stable/user_guide/indexing.html#returning-a-view-versus-a-copy\n",
      "  data.drop(columns=['created_at','updated_at','first_investment_at','last_investment_at','years_from_first_to_last_investment','first_milestone_at','last_milestone_at'], inplace=True)\n"
     ]
    }
   ],
   "source": [
    "data.drop(columns=['created_at','updated_at','first_investment_at','last_investment_at','years_from_first_to_last_investment','first_milestone_at','last_milestone_at'], inplace=True)"
   ]
  },
  {
   "cell_type": "code",
   "execution_count": 89,
   "id": "967a4cbb",
   "metadata": {},
   "outputs": [
    {
     "name": "stderr",
     "output_type": "stream",
     "text": [
      "C:\\Users\\user\\AppData\\Local\\Temp\\ipykernel_19340\\2012829432.py:1: SettingWithCopyWarning: \n",
      "A value is trying to be set on a copy of a slice from a DataFrame.\n",
      "Try using .loc[row_indexer,col_indexer] = value instead\n",
      "\n",
      "See the caveats in the documentation: https://pandas.pydata.org/pandas-docs/stable/user_guide/indexing.html#returning-a-view-versus-a-copy\n",
      "  data['first_funding_at'] = pd.to_datetime(data['first_funding_at'])\n",
      "C:\\Users\\user\\AppData\\Local\\Temp\\ipykernel_19340\\2012829432.py:2: SettingWithCopyWarning: \n",
      "A value is trying to be set on a copy of a slice from a DataFrame.\n",
      "Try using .loc[row_indexer,col_indexer] = value instead\n",
      "\n",
      "See the caveats in the documentation: https://pandas.pydata.org/pandas-docs/stable/user_guide/indexing.html#returning-a-view-versus-a-copy\n",
      "  data['last_funding_at'] = pd.to_datetime(data['last_funding_at'])\n",
      "C:\\Users\\user\\AppData\\Local\\Temp\\ipykernel_19340\\2012829432.py:5: SettingWithCopyWarning: \n",
      "A value is trying to be set on a copy of a slice from a DataFrame.\n",
      "Try using .loc[row_indexer,col_indexer] = value instead\n",
      "\n",
      "See the caveats in the documentation: https://pandas.pydata.org/pandas-docs/stable/user_guide/indexing.html#returning-a-view-versus-a-copy\n",
      "  data['first_to_last_funding_round_diff'] = data['last_funding_at'] - data['first_funding_at']\n",
      "C:\\Users\\user\\AppData\\Local\\Temp\\ipykernel_19340\\2012829432.py:6: SettingWithCopyWarning: \n",
      "A value is trying to be set on a copy of a slice from a DataFrame.\n",
      "Try using .loc[row_indexer,col_indexer] = value instead\n",
      "\n",
      "See the caveats in the documentation: https://pandas.pydata.org/pandas-docs/stable/user_guide/indexing.html#returning-a-view-versus-a-copy\n",
      "  data['first_to_last_funding_round_diff'] = data['first_to_last_funding_round_diff'].dt.days / 365\n"
     ]
    }
   ],
   "source": [
    "data['first_funding_at'] = pd.to_datetime(data['first_funding_at'])\n",
    "data['last_funding_at'] = pd.to_datetime(data['last_funding_at'])\n",
    "\n",
    "\n",
    "data['first_to_last_funding_round_diff'] = data['last_funding_at'] - data['first_funding_at']\n",
    "data['first_to_last_funding_round_diff'] = data['first_to_last_funding_round_diff'].dt.days / 365\n",
    "     "
   ]
  },
  {
   "cell_type": "code",
   "execution_count": 90,
   "id": "94e89216",
   "metadata": {},
   "outputs": [],
   "source": [
    "data = data[data['first_to_last_funding_round_diff'].notna()]\n",
    "data.drop(columns=['first_funding_at','last_funding_at'], inplace=True)"
   ]
  },
  {
   "cell_type": "code",
   "execution_count": 92,
   "id": "1201e879",
   "metadata": {},
   "outputs": [
    {
     "data": {
      "text/plain": [
       "invested_companies\n",
       "0.0      18229\n",
       "1.0        115\n",
       "2.0         20\n",
       "3.0         12\n",
       "5.0          8\n",
       "7.0          7\n",
       "6.0          4\n",
       "4.0          3\n",
       "14.0         2\n",
       "8.0          2\n",
       "18.0         2\n",
       "9.0          1\n",
       "38.0         1\n",
       "26.0         1\n",
       "16.0         1\n",
       "268.0        1\n",
       "30.0         1\n",
       "79.0         1\n",
       "73.0         1\n",
       "459.0        1\n",
       "20.0         1\n",
       "11.0         1\n",
       "33.0         1\n",
       "47.0         1\n",
       "57.0         1\n",
       "Name: count, dtype: int64"
      ]
     },
     "execution_count": 92,
     "metadata": {},
     "output_type": "execute_result"
    }
   ],
   "source": [
    "data['invested_companies'].value_counts()"
   ]
  },
  {
   "cell_type": "code",
   "execution_count": 93,
   "id": "d86dedda",
   "metadata": {},
   "outputs": [
    {
     "data": {
      "text/plain": [
       "investment_rounds                   90.443359\n",
       "invested_companies                  93.722990\n",
       "funding_rounds                       2.279960\n",
       "funding_total_usd                   36.769248\n",
       "relationships                       45.713744\n",
       "years_to_close                       8.787521\n",
       "company_age                          4.918425\n",
       "years_to_last_update                 0.732283\n",
       "funding_per_round                   42.092798\n",
       "first_to_last_funding_round_diff     3.096157\n",
       "dtype: float64"
      ]
     },
     "execution_count": 93,
     "metadata": {},
     "output_type": "execute_result"
    }
   ],
   "source": [
    "data.skew(numeric_only=True)"
   ]
  },
  {
   "cell_type": "code",
   "execution_count": 95,
   "id": "56598255",
   "metadata": {},
   "outputs": [],
   "source": [
    "def invested_companies_categorizer(x):\n",
    "    if x <= 5:\n",
    "        return \"1-5\"\n",
    "    else:\n",
    "        return '6+'\n",
    "    \n",
    "data['invested_companies_category'] = data['invested_companies'].apply(invested_companies_categorizer)\n",
    "data = data.drop('invested_companies', axis=1)"
   ]
  },
  {
   "cell_type": "code",
   "execution_count": 96,
   "id": "d09541ee",
   "metadata": {},
   "outputs": [
    {
     "data": {
      "text/plain": [
       "relationships\n",
       "2.0     3278\n",
       "1.0     3054\n",
       "3.0     2858\n",
       "4.0     1964\n",
       "5.0     1352\n",
       "6.0     1020\n",
       "7.0      710\n",
       "8.0      552\n",
       "9.0      473\n",
       "10.0     382\n",
       "11.0     353\n",
       "12.0     317\n",
       "13.0     291\n",
       "14.0     244\n",
       "15.0     211\n",
       "16.0     171\n",
       "17.0     156\n",
       "18.0     144\n",
       "19.0     124\n",
       "20.0     100\n",
       "21.0      86\n",
       "22.0      78\n",
       "23.0      60\n",
       "24.0      46\n",
       "26.0      46\n",
       "25.0      42\n",
       "27.0      32\n",
       "29.0      30\n",
       "28.0      26\n",
       "30.0      24\n",
       "Name: count, dtype: int64"
      ]
     },
     "execution_count": 96,
     "metadata": {},
     "output_type": "execute_result"
    }
   ],
   "source": [
    "data['relationships'].value_counts().head(30)"
   ]
  },
  {
   "cell_type": "code",
   "execution_count": 98,
   "id": "a2f3eb7b",
   "metadata": {},
   "outputs": [
    {
     "data": {
      "text/plain": [
       "True"
      ]
     },
     "execution_count": 98,
     "metadata": {},
     "output_type": "execute_result"
    }
   ],
   "source": [
    "0.0 in data['relationships'].keys()"
   ]
  },
  {
   "cell_type": "code",
   "execution_count": 100,
   "id": "e3b19ae7",
   "metadata": {},
   "outputs": [],
   "source": [
    "def relationships_categorizer(x):\n",
    "    if x==0.0:\n",
    "        return '0'\n",
    "    elif x <= 6:\n",
    "        return \"1-6\"\n",
    "    else:\n",
    "        return '6+'\n",
    "    \n",
    "\n",
    "data['relationships_category'] = data['relationships'].apply(relationships_categorizer)\n",
    "data = data.drop('relationships', axis=1)"
   ]
  },
  {
   "cell_type": "code",
   "execution_count": 101,
   "id": "353f68a9",
   "metadata": {},
   "outputs": [],
   "source": [
    "data.drop(columns=['founded_at','closed_at','category_code'], inplace=True)\n",
    "data['years_to_last_update'] = data['years_to_last_update'].astype(int)\n",
    "data['funding_per_round'] = data['funding_per_round'].astype(int)\n",
    "data['years_to_close'] = data['years_to_close'].astype(int)\n",
    "data['first_to_last_funding_round_diff'] = data['first_to_last_funding_round_diff'].astype(int)"
   ]
  },
  {
   "cell_type": "code",
   "execution_count": 102,
   "id": "019de5ec",
   "metadata": {},
   "outputs": [
    {
     "data": {
      "text/plain": [
       "investment_rounds\n",
       "0.0      18229\n",
       "1.0        110\n",
       "2.0         21\n",
       "3.0         14\n",
       "5.0          6\n",
       "8.0          5\n",
       "6.0          5\n",
       "9.0          4\n",
       "7.0          3\n",
       "4.0          3\n",
       "37.0         2\n",
       "17.0         2\n",
       "19.0         1\n",
       "40.0         1\n",
       "29.0         1\n",
       "14.0         1\n",
       "297.0        1\n",
       "30.0         1\n",
       "24.0         1\n",
       "11.0         1\n",
       "89.0         1\n",
       "478.0        1\n",
       "96.0         1\n",
       "49.0         1\n",
       "18.0         1\n",
       "58.0         1\n",
       "Name: count, dtype: int64"
      ]
     },
     "execution_count": 102,
     "metadata": {},
     "output_type": "execute_result"
    }
   ],
   "source": [
    "data['investment_rounds'].value_counts()"
   ]
  },
  {
   "cell_type": "code",
   "execution_count": 103,
   "id": "4e25b637",
   "metadata": {},
   "outputs": [],
   "source": [
    "def investment_rounds_categorizer(x):\n",
    "    if x == 0:\n",
    "        return '0'\n",
    "    else:\n",
    "        return '1+'\n",
    "    \n",
    "data['investment_rounds_category'] = data['investment_rounds'].apply(investment_rounds_categorizer)\n",
    "data = data.drop('investment_rounds', axis=1)"
   ]
  },
  {
   "cell_type": "code",
   "execution_count": 104,
   "id": "4983dc5d",
   "metadata": {},
   "outputs": [
    {
     "data": {
      "text/plain": [
       "years_to_close\n",
       " 0     17443\n",
       " 2       208\n",
       " 1       154\n",
       " 3       150\n",
       " 4       117\n",
       " 5        84\n",
       " 6        71\n",
       " 7        46\n",
       " 8        33\n",
       " 9        32\n",
       " 10       17\n",
       " 11       13\n",
       " 13        9\n",
       " 12        9\n",
       " 14        6\n",
       " 15        5\n",
       " 16        3\n",
       " 22        2\n",
       "-8         2\n",
       "-3         2\n",
       " 21        1\n",
       "-9         1\n",
       " 23        1\n",
       "-2         1\n",
       " 17        1\n",
       " 28        1\n",
       " 33        1\n",
       " 37        1\n",
       " 24        1\n",
       " 19        1\n",
       " 29        1\n",
       " 20        1\n",
       "Name: count, dtype: int64"
      ]
     },
     "execution_count": 104,
     "metadata": {},
     "output_type": "execute_result"
    }
   ],
   "source": [
    "data['years_to_close'].value_counts()"
   ]
  },
  {
   "cell_type": "code",
   "execution_count": 105,
   "id": "c175f276",
   "metadata": {},
   "outputs": [],
   "source": [
    "data = data[data['years_to_close']>=0]"
   ]
  },
  {
   "cell_type": "code",
   "execution_count": 106,
   "id": "2cc9ec71",
   "metadata": {},
   "outputs": [],
   "source": [
    "def years_to_close_categorizer(x):\n",
    "    if x == 0:\n",
    "        return '0'\n",
    "    elif x>=1 and x<=4:\n",
    "        return '1-5'\n",
    "    elif x>=6 and x<=11:\n",
    "        return '6-11'\n",
    "    else:\n",
    "        return '12+'\n",
    "    \n",
    "data['years_to_close_category'] = data['years_to_close'].apply(years_to_close_categorizer)\n",
    "data = data.drop('years_to_close', axis=1)"
   ]
  },
  {
   "cell_type": "code",
   "execution_count": 107,
   "id": "1faf1fab",
   "metadata": {},
   "outputs": [
    {
     "data": {
      "text/plain": [
       "company_age\n",
       "13.0    2560\n",
       "14.0    2148\n",
       "12.0    1968\n",
       "15.0    1718\n",
       "17.0    1478\n",
       "16.0    1409\n",
       "18.0    1186\n",
       "19.0     884\n",
       "20.0     694\n",
       "11.0     627\n",
       "21.0     569\n",
       "24.0     536\n",
       "22.0     465\n",
       "25.0     452\n",
       "23.0     427\n",
       "26.0     229\n",
       "27.0     188\n",
       "28.0     142\n",
       "29.0     111\n",
       "30.0      77\n",
       "32.0      54\n",
       "31.0      52\n",
       "33.0      40\n",
       "35.0      39\n",
       "39.0      34\n",
       "34.0      32\n",
       "36.0      29\n",
       "40.0      28\n",
       "38.0      24\n",
       "41.0      23\n",
       "37.0      22\n",
       "44.0      16\n",
       "45.0      12\n",
       "42.0      12\n",
       "43.0      10\n",
       "48.0      10\n",
       "46.0       9\n",
       "55.0       8\n",
       "50.0       6\n",
       "49.0       5\n",
       "Name: count, dtype: int64"
      ]
     },
     "execution_count": 107,
     "metadata": {},
     "output_type": "execute_result"
    }
   ],
   "source": [
    "data['company_age'].value_counts().head(40)"
   ]
  },
  {
   "cell_type": "code",
   "execution_count": 109,
   "id": "7c3a8924",
   "metadata": {},
   "outputs": [
    {
     "name": "stdout",
     "output_type": "stream",
     "text": [
      "10.0\n",
      "121.0\n"
     ]
    }
   ],
   "source": [
    "print(data['company_age'].unique().min())\n",
    "print(data['company_age'].unique().max())"
   ]
  },
  {
   "cell_type": "code",
   "execution_count": 110,
   "id": "781390c4",
   "metadata": {},
   "outputs": [],
   "source": [
    "def company_age_categorizer(x):\n",
    "    if x < 20:\n",
    "        return '10-20'\n",
    "    elif x < 30:\n",
    "        return '21-30'\n",
    "    else:\n",
    "        return '31+'\n",
    "    \n",
    "data['company_age_category'] = data['company_age'].apply(company_age_categorizer)\n",
    "data = data.drop('company_age', axis=1)"
   ]
  },
  {
   "cell_type": "code",
   "execution_count": 111,
   "id": "05433a3c",
   "metadata": {},
   "outputs": [],
   "source": [
    "def funding_per_round_categorizer(x):\n",
    "    if x < 0:\n",
    "        return 'down_round'\n",
    "    elif x >=0 and x <= 10000000:\n",
    "        return '0-10M'\n",
    "    else:\n",
    "        return '10M+'\n",
    "    \n",
    "data['funding_per_round_category'] = data['funding_per_round'].apply(funding_per_round_categorizer)\n",
    "data = data.drop('funding_per_round', axis=1)\n",
    "     "
   ]
  },
  {
   "cell_type": "code",
   "execution_count": 112,
   "id": "84477cbb",
   "metadata": {},
   "outputs": [
    {
     "data": {
      "text/plain": [
       "first_to_last_funding_round_diff\n",
       "0     11820\n",
       "1      2424\n",
       "2      1547\n",
       "3       935\n",
       "4       621\n",
       "5       449\n",
       "6       293\n",
       "7       164\n",
       "8        79\n",
       "9        29\n",
       "10       22\n",
       "11       14\n",
       "12        7\n",
       "13        5\n",
       "53        1\n",
       "14        1\n",
       "15        1\n",
       "Name: count, dtype: int64"
      ]
     },
     "execution_count": 112,
     "metadata": {},
     "output_type": "execute_result"
    }
   ],
   "source": [
    "data['first_to_last_funding_round_diff'].value_counts()"
   ]
  },
  {
   "cell_type": "code",
   "execution_count": 113,
   "id": "b1be163e",
   "metadata": {},
   "outputs": [],
   "source": [
    "def first_to_last_funding_round_diff_categorizer(x):\n",
    "    if x == 0:\n",
    "        return '0'\n",
    "    elif x >= 0 and x <= 3:\n",
    "        return '0-3'\n",
    "    elif x>=4 and x<=7:\n",
    "        return '4-7'\n",
    "    else:\n",
    "        return '7+'\n",
    "    \n",
    "\n",
    "data['first_to_last_funding_round_diff_category'] = data['first_to_last_funding_round_diff'].apply(first_to_last_funding_round_diff_categorizer)\n",
    "data = data.drop('first_to_last_funding_round_diff', axis=1)"
   ]
  },
  {
   "cell_type": "code",
   "execution_count": 115,
   "id": "05d11870",
   "metadata": {},
   "outputs": [
    {
     "name": "stdout",
     "output_type": "stream",
     "text": [
      "Most common company age for acquired companies: 0    10-20\n",
      "Name: company_age_category, dtype: object\n",
      "Most common company age for closed companies: 0    10-20\n",
      "Name: company_age_category, dtype: object\n",
      "Most common company age for operating companies: 0    10-20\n",
      "Name: company_age_category, dtype: object\n",
      "Most common company age for IPO companies: 0    21-30\n",
      "Name: company_age_category, dtype: object\n"
     ]
    }
   ],
   "source": [
    "company_age_acquired = data[data['status'] == 'acquired']['company_age_category'].mode()\n",
    "print(\"Most common company age for acquired companies:\", (company_age_acquired))\n",
    "\n",
    "company_age_closed = data[data['status'] == 'closed']['company_age_category'].mode()\n",
    "print(\"Most common company age for closed companies:\", (company_age_closed))\n",
    "\n",
    "company_age_operating = data[data['status'] == 'operating']['company_age_category'].mode()\n",
    "print(\"Most common company age for operating companies:\", (company_age_operating))\n",
    "\n",
    "company_age_ipo = data[data['status'] == 'ipo']['company_age_category'].mode()\n",
    "print(\"Most common company age for IPO companies:\", (company_age_ipo))"
   ]
  },
  {
   "cell_type": "code",
   "execution_count": 116,
   "id": "63051909",
   "metadata": {},
   "outputs": [
    {
     "name": "stdout",
     "output_type": "stream",
     "text": [
      "Most common funding per round for acquired companies: 0    0-10M\n",
      "Name: funding_per_round_category, dtype: object\n",
      "Most common funding per round for closed companies: 0    0-10M\n",
      "Name: funding_per_round_category, dtype: object\n",
      "Most common funding per round for operating companies: 0    0-10M\n",
      "Name: funding_per_round_category, dtype: object\n",
      "Most common funding per round for IPO companies: 0    10M+\n",
      "Name: funding_per_round_category, dtype: object\n"
     ]
    }
   ],
   "source": [
    "funding_per_round_acquired = data[data['status'] == 'acquired']['funding_per_round_category'].mode()\n",
    "print(\"Most common funding per round for acquired companies:\", (funding_per_round_acquired))\n",
    "\n",
    "funding_per_round_closed = data[data['status'] == 'closed']['funding_per_round_category'].mode()\n",
    "print(\"Most common funding per round for closed companies:\", (funding_per_round_closed))\n",
    "\n",
    "funding_per_round_operating = data[data['status'] == 'operating']['funding_per_round_category'].mode()\n",
    "print(\"Most common funding per round for operating companies:\", (funding_per_round_operating))\n",
    "\n",
    "funding_per_round_ipo = data[data['status'] == 'ipo']['funding_per_round_category'].mode()\n",
    "print(\"Most common funding per round for IPO companies:\", (funding_per_round_ipo))"
   ]
  },
  {
   "cell_type": "code",
   "execution_count": 117,
   "id": "15217754",
   "metadata": {},
   "outputs": [
    {
     "name": "stdout",
     "output_type": "stream",
     "text": [
      "Most common first to last funding round difference for acquired companies: 0    0\n",
      "Name: first_to_last_funding_round_diff_category, dtype: object\n",
      "Most common first to last funding round difference for closed companies: 0    0\n",
      "Name: first_to_last_funding_round_diff_category, dtype: object\n",
      "Most common first to last funding round difference for operating companies: 0    0\n",
      "Name: first_to_last_funding_round_diff_category, dtype: object\n",
      "Most common first to last funding round difference for IPO companies: 0    0\n",
      "Name: first_to_last_funding_round_diff_category, dtype: object\n"
     ]
    }
   ],
   "source": [
    "first_to_last_funding_round_diff_acquired = data[data['status'] == 'acquired']['first_to_last_funding_round_diff_category'].mode()\n",
    "print(\"Most common first to last funding round difference for acquired companies:\", (first_to_last_funding_round_diff_acquired))\n",
    "first_to_last_funding_round_diff_closed = data[data['status'] == 'closed']['first_to_last_funding_round_diff_category'].mode()\n",
    "print(\"Most common first to last funding round difference for closed companies:\", (first_to_last_funding_round_diff_closed))\n",
    "first_to_last_funding_round_diff_operating = data[data['status'] == 'operating']['first_to_last_funding_round_diff_category'].mode()\n",
    "print(\"Most common first to last funding round difference for operating companies:\", (first_to_last_funding_round_diff_operating))\n",
    "first_to_last_funding_round_diff_ipo = data[data['status'] == 'ipo']['first_to_last_funding_round_diff_category'].mode()\n",
    "print(\"Most common first to last funding round difference for IPO companies:\", (first_to_last_funding_round_diff_ipo))\n",
    "     "
   ]
  },
  {
   "cell_type": "code",
   "execution_count": 118,
   "id": "5b09fa6c",
   "metadata": {},
   "outputs": [
    {
     "name": "stdout",
     "output_type": "stream",
     "text": [
      "Most common category code for acquired companies: 0    Technology & Software\n",
      "Name: category_code_new, dtype: object\n",
      "Most common category code for closed companies: 0    Technology & Software\n",
      "Name: category_code_new, dtype: object\n",
      "Most common category code for operating companies: 0    Technology & Software\n",
      "Name: category_code_new, dtype: object\n",
      "Most common category code for IPO companies: 0    Technology & Software\n",
      "Name: category_code_new, dtype: object\n"
     ]
    }
   ],
   "source": [
    "category_code_acquired = data[data['status'] == 'acquired']['category_code_new'].mode()\n",
    "print(\"Most common category code for acquired companies:\", (category_code_acquired))\n",
    "category_code_closed = data[data['status'] == 'closed']['category_code_new'].mode()\n",
    "print(\"Most common category code for closed companies:\", (category_code_closed))\n",
    "category_code_operating = data[data['status'] == 'operating']['category_code_new'].mode()\n",
    "print(\"Most common category code for operating companies:\", (category_code_operating))\n",
    "category_code_ipo = data[data['status'] == 'ipo']['category_code_new'].mode()\n",
    "print(\"Most common category code for IPO companies:\", (category_code_ipo))"
   ]
  },
  {
   "cell_type": "code",
   "execution_count": 119,
   "id": "0d3adc02",
   "metadata": {},
   "outputs": [
    {
     "name": "stdout",
     "output_type": "stream",
     "text": [
      "Most common milestone category for acquired companies: 0    1-5\n",
      "Name: milestones_category, dtype: object\n",
      "Most common milestone category for closed companies: 0    1-5\n",
      "Name: milestones_category, dtype: object\n",
      "Most common milestone category for operating companies: 0    1-5\n",
      "Name: milestones_category, dtype: object\n",
      "Most common milestone category for IPO companies: 0    1-5\n",
      "Name: milestones_category, dtype: object\n"
     ]
    }
   ],
   "source": [
    "milestone_category_acquired = data[data['status'] == 'acquired']['milestones_category'].mode()\n",
    "print(\"Most common milestone category for acquired companies:\", (milestone_category_acquired))\n",
    "milestone_category_closed = data[data['status'] == 'closed']['milestones_category'].mode()\n",
    "print(\"Most common milestone category for closed companies:\", (milestone_category_closed))\n",
    "milestone_category_operating = data[data['status'] == 'operating']['milestones_category'].mode()\n",
    "print(\"Most common milestone category for operating companies:\", (milestone_category_operating))\n",
    "milestone_category_ipo = data[data['status'] == 'ipo']['milestones_category'].mode()\n",
    "print(\"Most common milestone category for IPO companies:\", (milestone_category_ipo))"
   ]
  },
  {
   "cell_type": "code",
   "execution_count": 120,
   "id": "c9e8fee0",
   "metadata": {},
   "outputs": [
    {
     "data": {
      "text/plain": [
       "status\n",
       "operating    15442\n",
       "acquired      1633\n",
       "closed        1039\n",
       "ipo            298\n",
       "Name: count, dtype: int64"
      ]
     },
     "execution_count": 120,
     "metadata": {},
     "output_type": "execute_result"
    }
   ],
   "source": [
    "data['status'].value_counts()"
   ]
  },
  {
   "cell_type": "code",
   "execution_count": 114,
   "id": "74127c8f",
   "metadata": {},
   "outputs": [
    {
     "data": {
      "text/plain": [
       "years_to_last_update\n",
       "0    8853\n",
       "1    2580\n",
       "3    2181\n",
       "2    2149\n",
       "4    1625\n",
       "5     913\n",
       "6     111\n",
       "Name: count, dtype: int64"
      ]
     },
     "execution_count": 114,
     "metadata": {},
     "output_type": "execute_result"
    }
   ],
   "source": [
    "data['years_to_last_update'].value_counts()"
   ]
  },
  {
   "cell_type": "code",
   "execution_count": 122,
   "id": "15325e96",
   "metadata": {},
   "outputs": [],
   "source": [
    "def years_to_last_update_categorizer(x):\n",
    "    if x == 0:\n",
    "        return '0'\n",
    "    elif x>=1 and x<=4:\n",
    "        return '1-4'\n",
    "    else:\n",
    "        return '5+'\n",
    "    \n",
    "data['years_to_last_update_category'] = data['years_to_last_update'].apply(years_to_last_update_categorizer)\n",
    "data = data.drop('years_to_last_update', axis=1)"
   ]
  },
  {
   "cell_type": "code",
   "execution_count": 123,
   "id": "0c4c5b39",
   "metadata": {},
   "outputs": [
    {
     "data": {
      "text/plain": [
       "Index(['name', 'status', 'funding_rounds', 'funding_total_usd',\n",
       "       'milestones_category', 'category_code_new',\n",
       "       'invested_companies_category', 'relationships_category',\n",
       "       'investment_rounds_category', 'years_to_close_category',\n",
       "       'company_age_category', 'funding_per_round_category',\n",
       "       'first_to_last_funding_round_diff_category',\n",
       "       'years_to_last_update_category'],\n",
       "      dtype='object')"
      ]
     },
     "execution_count": 123,
     "metadata": {},
     "output_type": "execute_result"
    }
   ],
   "source": [
    "data.columns"
   ]
  },
  {
   "cell_type": "code",
   "execution_count": 124,
   "id": "e4c59a71",
   "metadata": {},
   "outputs": [],
   "source": [
    "data.drop(columns=['name'], inplace=True)"
   ]
  },
  {
   "cell_type": "code",
   "execution_count": 126,
   "id": "7647efe6",
   "metadata": {},
   "outputs": [],
   "source": [
    "from sklearn.preprocessing import LabelEncoder\n",
    "le = LabelEncoder()\n",
    "\n",
    "from sklearn.model_selection import train_test_split\n",
    "x=data.drop('status',axis=1) # This line drops the 'status' column from the DataFrame\n",
    "y=data['status']\n",
    "x_train, x_val, y_train, y_val = train_test_split(x, y, test_size=0.4, random_state=42)\n",
    "x_val, x_test, y_val, y_test = train_test_split(x_val, y_val, test_size=0.5, random_state=42)\n",
    "\n",
    "cat_label_features = ['milestones_category','invested_companies_category','relationships_category','investment_rounds_category','years_to_close_category','first_to_last_funding_round_diff_category','years_to_last_update_category','company_age_category']\n",
    "categorical_features = ['category_code_new', # Removed 'status' from this list\n",
    " 'funding_per_round_category']\n",
    "\n",
    "# Apply Label Encoding for label features\n",
    "for feature in cat_label_features:\n",
    "    x_train[feature] = le.fit_transform(x_train[feature])\n",
    "    x_val[feature] = le.transform(x_val[feature])\n",
    "    x_test[feature] = le.transform(x_test[feature])\n",
    "\n",
    "# One-Hot Encoding for categorical features\n",
    "x_train_encoded = pd.get_dummies(x_train, columns=categorical_features, drop_first=True)\n",
    "x_val_encoded = pd.get_dummies(x_val, columns=categorical_features, drop_first=True)\n",
    "x_test_encoded = pd.get_dummies(x_test, columns=categorical_features, drop_first=True)\n",
    "\n",
    "# Align the columns in case there are missing columns after encoding\n",
    "x_train_encoded, x_val_encoded = x_train_encoded.align(x_val_encoded, join='left', axis=1)\n",
    "x_train_encoded, x_test_encoded = x_train_encoded.align(x_test_encoded, join='left', axis=1)\n",
    "\n",
    "# Fill any NaNs after aligning columns (resulting from categorical variables missing in one of the sets)\n",
    "x_val_encoded.fillna(0, inplace=True)\n",
    "x_test_encoded.fillna(0, inplace=True)"
   ]
  },
  {
   "cell_type": "code",
   "execution_count": 128,
   "id": "da08e996",
   "metadata": {},
   "outputs": [
    {
     "data": {
      "text/plain": [
       "<Axes: >"
      ]
     },
     "execution_count": 128,
     "metadata": {},
     "output_type": "execute_result"
    },
    {
     "data": {
      "image/png": "[encoded data removed]",
      "text/plain": [
       "<Figure size 640x480 with 1 Axes>"
      ]
     },
     "metadata": {},
     "output_type": "display_data"
    }
   ],
   "source": [
    "from sklearn.feature_selection import mutual_info_classif\n",
    "\n",
    "mi_scores = mutual_info_classif(x_train_encoded, y_train)\n",
    "\n",
    "\n",
    "mi_scores = pd.Series(mi_scores, index=x_train_encoded.columns)\n",
    "mi_scores = mi_scores.sort_values(ascending=False)\n",
    "\n",
    "\n",
    "mi_scores[:10].plot(kind='barh')"
   ]
  },
  {
   "cell_type": "code",
   "execution_count": 129,
   "id": "f381fa39",
   "metadata": {},
   "outputs": [
    {
     "name": "stdout",
     "output_type": "stream",
     "text": [
      "(11047, 1)\n"
     ]
    }
   ],
   "source": [
    "from sklearn.decomposition import PCA\n",
    "\n",
    "pca = PCA(n_components=0.95)\n",
    "\n",
    "x_train_pca = pca.fit_transform(x_train_encoded)\n",
    "x_val_pca = pca.transform(x_val_encoded)\n",
    "x_test_pca = pca.transform(x_test_encoded)\n",
    "\n",
    "print(x_train_pca.shape)"
   ]
  },
  {
   "cell_type": "code",
   "execution_count": 130,
   "id": "5fc40d02",
   "metadata": {},
   "outputs": [
    {
     "data": {
      "text/plain": [
       "(11047, 10)"
      ]
     },
     "execution_count": 130,
     "metadata": {},
     "output_type": "execute_result"
    }
   ],
   "source": [
    "from sklearn.feature_selection import SelectKBest, chi2, f_classif\n",
    "selector = SelectKBest(chi2, k=10)\n",
    "\n",
    "X_train_selected = selector.fit_transform(x_train_encoded, y_train)\n",
    "X_val_selected = selector.transform(x_val_encoded)\n",
    "X_test_selected = selector.transform(x_test_encoded)\n",
    "\n",
    "\n",
    "X_train_selected.shape"
   ]
  },
  {
   "cell_type": "code",
   "execution_count": null,
   "id": "92baaa78",
   "metadata": {},
   "outputs": [],
   "source": []
  },
  {
   "cell_type": "code",
   "execution_count": null,
   "id": "40d28a45",
   "metadata": {},
   "outputs": [],
   "source": []
  }
 ],
 "metadata": {
  "kernelspec": {
   "display_name": "Python 3 (ipykernel)",
   "language": "python",
   "name": "python3"
  },
  "language_info": {
   "codemirror_mode": {
    "name": "ipython",
    "version": 3
   },
   "file_extension": ".py",
   "mimetype": "text/x-python",
   "name": "python",
   "nbconvert_exporter": "python",
   "pygments_lexer": "ipython3",
   "version": "3.10.13"
  }
 },
 "nbformat": 4,
 "nbformat_minor": 5
}
