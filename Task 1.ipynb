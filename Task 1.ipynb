{
 "cells": [
  {
   "cell_type": "markdown",
   "id": "5ace39f2",
   "metadata": {},
   "source": [
    "# Importing dependencies"
   ]
  },
  {
   "cell_type": "code",
   "execution_count": 41,
   "id": "ea887be1",
   "metadata": {},
   "outputs": [],
   "source": [
    "import os\n",
    "import requests\n",
    "import zipfile\n",
    "import io\n",
    "import pandas as pd\n",
    "import numpy as np\n",
    "import seaborn as sns\n",
    "import matplotlib.pyplot as plt\n",
    "from sklearn.feature_selection import RFE\n",
    "from sklearn.linear_model import LogisticRegression\n",
    "from sklearn.model_selection import train_test_split\n",
    "from sklearn.preprocessing import StandardScaler\n",
    "from sklearn.metrics import confusion_matrix, classification_report, accuracy_score\n",
    "from sklearn.ensemble import RandomForestClassifier\n"
   ]
  },
  {
   "cell_type": "markdown",
   "id": "bf0a01b7",
   "metadata": {},
   "source": [
    "#### Importing dataset"
   ]
  },
  {
   "cell_type": "code",
   "execution_count": 2,
   "id": "dd918fd8",
   "metadata": {},
   "outputs": [
    {
     "name": "stdout",
     "output_type": "stream",
     "text": [
      "[INFO] The file 'dataset\\LoanExport.csv' already exists. No download needed.\n",
      "   CreditScore  FirstPaymentDate FirstTimeHomebuyer  MaturityDate    MSA  MIP  \\\n",
      "0            0            199902                  N        202901  16974   25   \n",
      "1            0            199902                  N        202901  19740    0   \n",
      "2            0            199902                  N        202901  29940    0   \n",
      "3            0            199902                  N        202901  31084    0   \n",
      "4            0            199902                  N        202901  35644    0   \n",
      "\n",
      "   Units Occupancy  OCLTV  DTI  ...  PostalCode    LoanSeqNum  LoanPurpose  \\\n",
      "0      1         O     89   27  ...       60400  F199Q1268030            P   \n",
      "1      1         O     73   17  ...       80200  F199Q1015092            N   \n",
      "2      1         O     75   16  ...       66000  F199Q1266886            N   \n",
      "3      1         O     76   14  ...       90700  F199Q1178167            N   \n",
      "4      1         O     78   18  ...        7600  F199Q1178517            N   \n",
      "\n",
      "  OrigLoanTerm NumBorrowers SellerName          ServicerName EverDelinquent  \\\n",
      "0          360            2         FL  WASHINGTONMUTUALBANK              0   \n",
      "1          360            1         FT  CHASEHOMEFINANCELLC               0   \n",
      "2          360            2         FL  WASHINGTONMUTUALBANK              0   \n",
      "3          360            2         GM  GMACMTGECORP                      0   \n",
      "4          360            2         GM  GMACMTGECORP                      0   \n",
      "\n",
      "  MonthsDelinquent MonthsInRepayment  \n",
      "0                0                52  \n",
      "1                0               144  \n",
      "2                0                67  \n",
      "3                0                35  \n",
      "4                0                54  \n",
      "\n",
      "[5 rows x 28 columns]\n"
     ]
    },
    {
     "name": "stderr",
     "output_type": "stream",
     "text": [
      "C:\\Users\\user\\AppData\\Local\\Temp\\ipykernel_14120\\2125035767.py:20: DtypeWarning: Columns (18) have mixed types. Specify dtype option on import or set low_memory=False.\n",
      "  data = pd.read_csv(csv_file_path)\n"
     ]
    }
   ],
   "source": [
    "# Define the URL and file paths\n",
    "url = \"https://github.com/Technocolabs100/Mortgage-Prepayment-Analysis-and-Prediction/archive/refs/heads/main.zip\"\n",
    "extracted_dir = \"dataset\"\n",
    "csv_file_path = os.path.join(extracted_dir, \"LoanExport.csv\")\n",
    "\n",
    "# Check if the CSV file already exists\n",
    "if os.path.exists(csv_file_path):\n",
    "    print(f\"[INFO] The file '{csv_file_path}' already exists. No download needed.\")\n",
    "else:\n",
    "    print(f\"[INFO] File not found. Downloading the ZIP file...\")\n",
    "    response = requests.get(url, stream=True)\n",
    "    if response.status_code == 200:\n",
    "        with zipfile.ZipFile(io.BytesIO(response.content)) as zip_ref:\n",
    "            zip_ref.extractall(extracted_dir)\n",
    "        print(f\"[INFO] The file has been downloaded and extracted to the '{extracted_dir}' directory.\")\n",
    "    else:\n",
    "        print(f\"[ERROR] Failed to download the file. Status code: {response.status_code}\")\n",
    "\n",
    "# Load the CSV file into a DataFrame\n",
    "data = pd.read_csv(csv_file_path)\n",
    "\n",
    "# Display the first few rows of the DataFrame\n",
    "print(data.head())"
   ]
  },
  {
   "cell_type": "markdown",
   "id": "7220338b",
   "metadata": {},
   "source": [
    "## Exploratory Data Analysis (EDA)"
   ]
  },
  {
   "cell_type": "code",
   "execution_count": 3,
   "id": "489e7afa",
   "metadata": {},
   "outputs": [
    {
     "data": {
      "text/html": [
       "<div>\n",
       "<style scoped>\n",
       "    .dataframe tbody tr th:only-of-type {\n",
       "        vertical-align: middle;\n",
       "    }\n",
       "\n",
       "    .dataframe tbody tr th {\n",
       "        vertical-align: top;\n",
       "    }\n",
       "\n",
       "    .dataframe thead th {\n",
       "        text-align: right;\n",
       "    }\n",
       "</style>\n",
       "<table border=\"1\" class=\"dataframe\">\n",
       "  <thead>\n",
       "    <tr style=\"text-align: right;\">\n",
       "      <th></th>\n",
       "      <th>CreditScore</th>\n",
       "      <th>FirstPaymentDate</th>\n",
       "      <th>FirstTimeHomebuyer</th>\n",
       "      <th>MaturityDate</th>\n",
       "      <th>MSA</th>\n",
       "      <th>MIP</th>\n",
       "      <th>Units</th>\n",
       "      <th>Occupancy</th>\n",
       "      <th>OCLTV</th>\n",
       "      <th>DTI</th>\n",
       "      <th>...</th>\n",
       "      <th>PostalCode</th>\n",
       "      <th>LoanSeqNum</th>\n",
       "      <th>LoanPurpose</th>\n",
       "      <th>OrigLoanTerm</th>\n",
       "      <th>NumBorrowers</th>\n",
       "      <th>SellerName</th>\n",
       "      <th>ServicerName</th>\n",
       "      <th>EverDelinquent</th>\n",
       "      <th>MonthsDelinquent</th>\n",
       "      <th>MonthsInRepayment</th>\n",
       "    </tr>\n",
       "  </thead>\n",
       "  <tbody>\n",
       "    <tr>\n",
       "      <th>0</th>\n",
       "      <td>0</td>\n",
       "      <td>199902</td>\n",
       "      <td>N</td>\n",
       "      <td>202901</td>\n",
       "      <td>16974</td>\n",
       "      <td>25</td>\n",
       "      <td>1</td>\n",
       "      <td>O</td>\n",
       "      <td>89</td>\n",
       "      <td>27</td>\n",
       "      <td>...</td>\n",
       "      <td>60400</td>\n",
       "      <td>F199Q1268030</td>\n",
       "      <td>P</td>\n",
       "      <td>360</td>\n",
       "      <td>2</td>\n",
       "      <td>FL</td>\n",
       "      <td>WASHINGTONMUTUALBANK</td>\n",
       "      <td>0</td>\n",
       "      <td>0</td>\n",
       "      <td>52</td>\n",
       "    </tr>\n",
       "    <tr>\n",
       "      <th>1</th>\n",
       "      <td>0</td>\n",
       "      <td>199902</td>\n",
       "      <td>N</td>\n",
       "      <td>202901</td>\n",
       "      <td>19740</td>\n",
       "      <td>0</td>\n",
       "      <td>1</td>\n",
       "      <td>O</td>\n",
       "      <td>73</td>\n",
       "      <td>17</td>\n",
       "      <td>...</td>\n",
       "      <td>80200</td>\n",
       "      <td>F199Q1015092</td>\n",
       "      <td>N</td>\n",
       "      <td>360</td>\n",
       "      <td>1</td>\n",
       "      <td>FT</td>\n",
       "      <td>CHASEHOMEFINANCELLC</td>\n",
       "      <td>0</td>\n",
       "      <td>0</td>\n",
       "      <td>144</td>\n",
       "    </tr>\n",
       "    <tr>\n",
       "      <th>2</th>\n",
       "      <td>0</td>\n",
       "      <td>199902</td>\n",
       "      <td>N</td>\n",
       "      <td>202901</td>\n",
       "      <td>29940</td>\n",
       "      <td>0</td>\n",
       "      <td>1</td>\n",
       "      <td>O</td>\n",
       "      <td>75</td>\n",
       "      <td>16</td>\n",
       "      <td>...</td>\n",
       "      <td>66000</td>\n",
       "      <td>F199Q1266886</td>\n",
       "      <td>N</td>\n",
       "      <td>360</td>\n",
       "      <td>2</td>\n",
       "      <td>FL</td>\n",
       "      <td>WASHINGTONMUTUALBANK</td>\n",
       "      <td>0</td>\n",
       "      <td>0</td>\n",
       "      <td>67</td>\n",
       "    </tr>\n",
       "    <tr>\n",
       "      <th>3</th>\n",
       "      <td>0</td>\n",
       "      <td>199902</td>\n",
       "      <td>N</td>\n",
       "      <td>202901</td>\n",
       "      <td>31084</td>\n",
       "      <td>0</td>\n",
       "      <td>1</td>\n",
       "      <td>O</td>\n",
       "      <td>76</td>\n",
       "      <td>14</td>\n",
       "      <td>...</td>\n",
       "      <td>90700</td>\n",
       "      <td>F199Q1178167</td>\n",
       "      <td>N</td>\n",
       "      <td>360</td>\n",
       "      <td>2</td>\n",
       "      <td>GM</td>\n",
       "      <td>GMACMTGECORP</td>\n",
       "      <td>0</td>\n",
       "      <td>0</td>\n",
       "      <td>35</td>\n",
       "    </tr>\n",
       "    <tr>\n",
       "      <th>4</th>\n",
       "      <td>0</td>\n",
       "      <td>199902</td>\n",
       "      <td>N</td>\n",
       "      <td>202901</td>\n",
       "      <td>35644</td>\n",
       "      <td>0</td>\n",
       "      <td>1</td>\n",
       "      <td>O</td>\n",
       "      <td>78</td>\n",
       "      <td>18</td>\n",
       "      <td>...</td>\n",
       "      <td>7600</td>\n",
       "      <td>F199Q1178517</td>\n",
       "      <td>N</td>\n",
       "      <td>360</td>\n",
       "      <td>2</td>\n",
       "      <td>GM</td>\n",
       "      <td>GMACMTGECORP</td>\n",
       "      <td>0</td>\n",
       "      <td>0</td>\n",
       "      <td>54</td>\n",
       "    </tr>\n",
       "  </tbody>\n",
       "</table>\n",
       "<p>5 rows × 28 columns</p>\n",
       "</div>"
      ],
      "text/plain": [
       "   CreditScore  FirstPaymentDate FirstTimeHomebuyer  MaturityDate    MSA  MIP  \\\n",
       "0            0            199902                  N        202901  16974   25   \n",
       "1            0            199902                  N        202901  19740    0   \n",
       "2            0            199902                  N        202901  29940    0   \n",
       "3            0            199902                  N        202901  31084    0   \n",
       "4            0            199902                  N        202901  35644    0   \n",
       "\n",
       "   Units Occupancy  OCLTV  DTI  ...  PostalCode    LoanSeqNum  LoanPurpose  \\\n",
       "0      1         O     89   27  ...       60400  F199Q1268030            P   \n",
       "1      1         O     73   17  ...       80200  F199Q1015092            N   \n",
       "2      1         O     75   16  ...       66000  F199Q1266886            N   \n",
       "3      1         O     76   14  ...       90700  F199Q1178167            N   \n",
       "4      1         O     78   18  ...        7600  F199Q1178517            N   \n",
       "\n",
       "  OrigLoanTerm NumBorrowers SellerName          ServicerName EverDelinquent  \\\n",
       "0          360            2         FL  WASHINGTONMUTUALBANK              0   \n",
       "1          360            1         FT  CHASEHOMEFINANCELLC               0   \n",
       "2          360            2         FL  WASHINGTONMUTUALBANK              0   \n",
       "3          360            2         GM  GMACMTGECORP                      0   \n",
       "4          360            2         GM  GMACMTGECORP                      0   \n",
       "\n",
       "  MonthsDelinquent MonthsInRepayment  \n",
       "0                0                52  \n",
       "1                0               144  \n",
       "2                0                67  \n",
       "3                0                35  \n",
       "4                0                54  \n",
       "\n",
       "[5 rows x 28 columns]"
      ]
     },
     "execution_count": 3,
     "metadata": {},
     "output_type": "execute_result"
    }
   ],
   "source": [
    "data.head(5)"
   ]
  },
  {
   "cell_type": "code",
   "execution_count": 4,
   "id": "699adf91",
   "metadata": {},
   "outputs": [
    {
     "data": {
      "text/plain": [
       "Index(['CreditScore', 'FirstPaymentDate', 'FirstTimeHomebuyer', 'MaturityDate',\n",
       "       'MSA', 'MIP', 'Units', 'Occupancy', 'OCLTV', 'DTI', 'OrigUPB', 'LTV',\n",
       "       'OrigInterestRate', 'Channel', 'PPM', 'ProductType', 'PropertyState',\n",
       "       'PropertyType', 'PostalCode', 'LoanSeqNum', 'LoanPurpose',\n",
       "       'OrigLoanTerm', 'NumBorrowers', 'SellerName', 'ServicerName',\n",
       "       'EverDelinquent', 'MonthsDelinquent', 'MonthsInRepayment'],\n",
       "      dtype='object')"
      ]
     },
     "execution_count": 4,
     "metadata": {},
     "output_type": "execute_result"
    }
   ],
   "source": [
    "data.columns"
   ]
  },
  {
   "cell_type": "code",
   "execution_count": 5,
   "id": "f7107c76",
   "metadata": {},
   "outputs": [
    {
     "name": "stdout",
     "output_type": "stream",
     "text": [
      "Shape of the Data: (291451, 28)\n",
      "<class 'pandas.core.frame.DataFrame'>\n",
      "RangeIndex: 291451 entries, 0 to 291450\n",
      "Data columns (total 28 columns):\n",
      " #   Column              Non-Null Count   Dtype  \n",
      "---  ------              --------------   -----  \n",
      " 0   CreditScore         291451 non-null  int64  \n",
      " 1   FirstPaymentDate    291451 non-null  int64  \n",
      " 2   FirstTimeHomebuyer  291451 non-null  object \n",
      " 3   MaturityDate        291451 non-null  int64  \n",
      " 4   MSA                 291451 non-null  object \n",
      " 5   MIP                 291451 non-null  int64  \n",
      " 6   Units               291451 non-null  int64  \n",
      " 7   Occupancy           291451 non-null  object \n",
      " 8   OCLTV               291451 non-null  int64  \n",
      " 9   DTI                 291451 non-null  int64  \n",
      " 10  OrigUPB             291451 non-null  int64  \n",
      " 11  LTV                 291451 non-null  int64  \n",
      " 12  OrigInterestRate    291451 non-null  float64\n",
      " 13  Channel             291451 non-null  object \n",
      " 14  PPM                 291451 non-null  object \n",
      " 15  ProductType         291451 non-null  object \n",
      " 16  PropertyState       291451 non-null  object \n",
      " 17  PropertyType        291451 non-null  object \n",
      " 18  PostalCode          291451 non-null  object \n",
      " 19  LoanSeqNum          291451 non-null  object \n",
      " 20  LoanPurpose         291451 non-null  object \n",
      " 21  OrigLoanTerm        291451 non-null  int64  \n",
      " 22  NumBorrowers        291451 non-null  object \n",
      " 23  SellerName          266457 non-null  object \n",
      " 24  ServicerName        291451 non-null  object \n",
      " 25  EverDelinquent      291451 non-null  int64  \n",
      " 26  MonthsDelinquent    291451 non-null  int64  \n",
      " 27  MonthsInRepayment   291451 non-null  int64  \n",
      "dtypes: float64(1), int64(13), object(14)\n",
      "memory usage: 62.3+ MB\n",
      "Data Types and Null Counts:\n",
      " None\n"
     ]
    }
   ],
   "source": [
    "print(\"Shape of the Data:\", data.shape)\n",
    "print(\"Data Types and Null Counts:\\n\", data.info())"
   ]
  },
  {
   "cell_type": "code",
   "execution_count": 6,
   "id": "44e1b431",
   "metadata": {},
   "outputs": [
    {
     "name": "stdout",
     "output_type": "stream",
     "text": [
      "        CreditScore  FirstPaymentDate FirstTimeHomebuyer  MaturityDate  \\\n",
      "count     291451.00         291451.00             291451     291451.00   \n",
      "unique          NaN               NaN                  3           NaN   \n",
      "top             NaN               NaN                  N           NaN   \n",
      "freq            NaN               NaN             184154           NaN   \n",
      "mean         708.94         199904.76                NaN     202902.37   \n",
      "std           68.41             13.82                NaN         16.09   \n",
      "min            0.00         199901.00                NaN     202402.00   \n",
      "25%          675.00         199903.00                NaN     202902.00   \n",
      "50%          717.00         199904.00                NaN     202903.00   \n",
      "75%          753.00         199905.00                NaN     202904.00   \n",
      "max          849.00         201303.00                NaN     204302.00   \n",
      "\n",
      "           MSA        MIP      Units Occupancy      OCLTV        DTI  ...  \\\n",
      "count   291451  291451.00  291451.00    291451  291451.00  291451.00  ...   \n",
      "unique     392        NaN        NaN         3        NaN        NaN  ...   \n",
      "top      X            NaN        NaN         O        NaN        NaN  ...   \n",
      "freq     39100        NaN        NaN    276131        NaN        NaN  ...   \n",
      "mean       NaN       9.22       1.03       NaN      76.96      30.03  ...   \n",
      "std        NaN      12.65       0.20       NaN      15.24      13.20  ...   \n",
      "min        NaN       0.00       0.00       NaN       0.00       0.00  ...   \n",
      "25%        NaN       0.00       1.00       NaN      70.00      22.00  ...   \n",
      "50%        NaN       0.00       1.00       NaN      80.00      31.00  ...   \n",
      "75%        NaN      25.00       1.00       NaN      90.00      39.00  ...   \n",
      "max        NaN      55.00       4.00       NaN     110.00      65.00  ...   \n",
      "\n",
      "        PostalCode    LoanSeqNum  LoanPurpose OrigLoanTerm NumBorrowers  \\\n",
      "count       291451        291451       291451    291451.00       291451   \n",
      "unique        1767        291451            3          NaN            3   \n",
      "top          94500  F199Q1268030            P          NaN            2   \n",
      "freq          2582             1       123404          NaN       187335   \n",
      "mean           NaN           NaN          NaN       359.84          NaN   \n",
      "std            NaN           NaN          NaN         2.29          NaN   \n",
      "min            NaN           NaN          NaN       301.00          NaN   \n",
      "25%            NaN           NaN          NaN       360.00          NaN   \n",
      "50%            NaN           NaN          NaN       360.00          NaN   \n",
      "75%            NaN           NaN          NaN       360.00          NaN   \n",
      "max            NaN           NaN          NaN       361.00          NaN   \n",
      "\n",
      "       SellerName          ServicerName EverDelinquent MonthsDelinquent  \\\n",
      "count      266457                291451       291451.0        291451.00   \n",
      "unique         20                    20            NaN              NaN   \n",
      "top            Ot  Other servicers                 NaN              NaN   \n",
      "freq        76943                 64043            NaN              NaN   \n",
      "mean          NaN                   NaN            0.2             1.84   \n",
      "std           NaN                   NaN            0.4             8.81   \n",
      "min           NaN                   NaN            0.0             0.00   \n",
      "25%           NaN                   NaN            0.0             0.00   \n",
      "50%           NaN                   NaN            0.0             0.00   \n",
      "75%           NaN                   NaN            0.0             0.00   \n",
      "max           NaN                   NaN            1.0           180.00   \n",
      "\n",
      "       MonthsInRepayment  \n",
      "count          291451.00  \n",
      "unique               NaN  \n",
      "top                  NaN  \n",
      "freq                 NaN  \n",
      "mean               60.81  \n",
      "std                46.14  \n",
      "min                 1.00  \n",
      "25%                34.00  \n",
      "50%                48.00  \n",
      "75%                63.00  \n",
      "max               212.00  \n",
      "\n",
      "[11 rows x 28 columns]\n"
     ]
    }
   ],
   "source": [
    "print(data.describe(include='all').round(2))"
   ]
  },
  {
   "cell_type": "code",
   "execution_count": 7,
   "id": "0c2aa5f7",
   "metadata": {},
   "outputs": [
    {
     "data": {
      "text/plain": [
       "CreditScore               0\n",
       "FirstPaymentDate          0\n",
       "FirstTimeHomebuyer        0\n",
       "MaturityDate              0\n",
       "MSA                       0\n",
       "MIP                       0\n",
       "Units                     0\n",
       "Occupancy                 0\n",
       "OCLTV                     0\n",
       "DTI                       0\n",
       "OrigUPB                   0\n",
       "LTV                       0\n",
       "OrigInterestRate          0\n",
       "Channel                   0\n",
       "PPM                       0\n",
       "ProductType               0\n",
       "PropertyState             0\n",
       "PropertyType              0\n",
       "PostalCode                0\n",
       "LoanSeqNum                0\n",
       "LoanPurpose               0\n",
       "OrigLoanTerm              0\n",
       "NumBorrowers              0\n",
       "SellerName            24994\n",
       "ServicerName              0\n",
       "EverDelinquent            0\n",
       "MonthsDelinquent          0\n",
       "MonthsInRepayment         0\n",
       "dtype: int64"
      ]
     },
     "execution_count": 7,
     "metadata": {},
     "output_type": "execute_result"
    }
   ],
   "source": [
    "data.isnull().sum()"
   ]
  },
  {
   "cell_type": "markdown",
   "id": "6c68a9f0",
   "metadata": {},
   "source": [
    "So only in Seller name has null values "
   ]
  },
  {
   "cell_type": "code",
   "execution_count": 8,
   "id": "f73967a3",
   "metadata": {},
   "outputs": [
    {
     "data": {
      "text/plain": [
       "32        NaN\n",
       "37        NaN\n",
       "38        NaN\n",
       "40        NaN\n",
       "44        NaN\n",
       "         ... \n",
       "291359    NaN\n",
       "291374    NaN\n",
       "291384    NaN\n",
       "291403    NaN\n",
       "291415    NaN\n",
       "Name: SellerName, Length: 24994, dtype: object"
      ]
     },
     "execution_count": 8,
     "metadata": {},
     "output_type": "execute_result"
    }
   ],
   "source": [
    "data.SellerName[data['SellerName'].isnull()]"
   ]
  },
  {
   "cell_type": "code",
   "execution_count": 9,
   "id": "4127af33",
   "metadata": {},
   "outputs": [
    {
     "name": "stdout",
     "output_type": "stream",
     "text": [
      "Total null values of Seller Name column are : 24994\n",
      "Total not null values of Seller Name column are : 266457\n"
     ]
    }
   ],
   "source": [
    "print(f'Total null values of Seller Name column are : {data.SellerName.isnull().sum()}')\n",
    "print(f'Total not null values of Seller Name column are : {data.SellerName.notnull().sum()}')"
   ]
  },
  {
   "cell_type": "code",
   "execution_count": 10,
   "id": "b2be73c2",
   "metadata": {},
   "outputs": [
    {
     "data": {
      "text/plain": [
       "array(['FL', 'FT', 'GM', 'Ot', 'RE', 'NO', 'ST', 'CR', 'CH', 'FI', 'HO',\n",
       "       'PR', nan, 'PN', 'WA', 'BA', 'G ', 'OL', 'AC', 'CO', 'BI'],\n",
       "      dtype=object)"
      ]
     },
     "execution_count": 10,
     "metadata": {},
     "output_type": "execute_result"
    }
   ],
   "source": [
    "data.SellerName.unique()"
   ]
  },
  {
   "cell_type": "markdown",
   "id": "0d4eb409",
   "metadata": {},
   "source": [
    "So from above we can say either we can remove the whole column or we can change it with mode values of all "
   ]
  },
  {
   "cell_type": "code",
   "execution_count": 11,
   "id": "6e1fe3c8",
   "metadata": {},
   "outputs": [
    {
     "data": {
      "text/plain": [
       "1767"
      ]
     },
     "execution_count": 11,
     "metadata": {},
     "output_type": "execute_result"
    }
   ],
   "source": [
    "# Unique values of postal codes'\n",
    "len(data['PostalCode'].unique())"
   ]
  },
  {
   "cell_type": "code",
   "execution_count": 12,
   "id": "43bb08e0",
   "metadata": {},
   "outputs": [
    {
     "data": {
      "text/plain": [
       "0"
      ]
     },
     "execution_count": 12,
     "metadata": {},
     "output_type": "execute_result"
    }
   ],
   "source": [
    "# Checking duplicates values\n",
    "data.duplicated().sum()"
   ]
  },
  {
   "cell_type": "markdown",
   "id": "b1c6e3c9",
   "metadata": {},
   "source": [
    "No duplicate values"
   ]
  },
  {
   "cell_type": "code",
   "execution_count": 13,
   "id": "39ff3843",
   "metadata": {},
   "outputs": [
    {
     "data": {
      "image/png": "[encoded data removed]",
      "text/plain": [
       "<Figure size 640x480 with 1 Axes>"
      ]
     },
     "metadata": {},
     "output_type": "display_data"
    }
   ],
   "source": [
    "sns.countplot(x='LoanPurpose', data=data)\n",
    "plt.show()"
   ]
  },
  {
   "cell_type": "code",
   "execution_count": 14,
   "id": "6c55ed26",
   "metadata": {},
   "outputs": [
    {
     "data": {
      "image/png": "[encoded data removed]",
      "text/plain": [
       "<Figure size 640x480 with 1 Axes>"
      ]
     },
     "metadata": {},
     "output_type": "display_data"
    }
   ],
   "source": [
    "sns.countplot(x='PostalCode', data=data)\n",
    "plt.show()"
   ]
  },
  {
   "cell_type": "code",
   "execution_count": 15,
   "id": "b3b97645",
   "metadata": {},
   "outputs": [
    {
     "data": {
      "image/png": "[encoded data removed]",
      "text/plain": [
       "<Figure size 640x480 with 1 Axes>"
      ]
     },
     "metadata": {},
     "output_type": "display_data"
    }
   ],
   "source": [
    "sns.countplot(x='EverDelinquent', data=data)\n",
    "plt.show()"
   ]
  },
  {
   "cell_type": "markdown",
   "id": "e5ffdf75",
   "metadata": {},
   "source": [
    "## Data Cleaning"
   ]
  },
  {
   "cell_type": "markdown",
   "id": "31f1a446",
   "metadata": {},
   "source": [
    "##### Handling missing values"
   ]
  },
  {
   "cell_type": "code",
   "execution_count": 16,
   "id": "db60bb4c",
   "metadata": {},
   "outputs": [],
   "source": [
    "data['SellerName'] = data['SellerName'].mode()[0]"
   ]
  },
  {
   "cell_type": "markdown",
   "id": "9e535d23",
   "metadata": {},
   "source": [
    "I used mode because the values are in catagorical type"
   ]
  },
  {
   "cell_type": "code",
   "execution_count": 17,
   "id": "c2227d13",
   "metadata": {},
   "outputs": [
    {
     "data": {
      "text/plain": [
       "CreditScore             int64\n",
       "FirstPaymentDate        int64\n",
       "FirstTimeHomebuyer     object\n",
       "MaturityDate            int64\n",
       "MSA                    object\n",
       "MIP                     int64\n",
       "Units                   int64\n",
       "Occupancy              object\n",
       "OCLTV                   int64\n",
       "DTI                     int64\n",
       "OrigUPB                 int64\n",
       "LTV                     int64\n",
       "OrigInterestRate      float64\n",
       "Channel                object\n",
       "PPM                    object\n",
       "ProductType            object\n",
       "PropertyState          object\n",
       "PropertyType           object\n",
       "PostalCode             object\n",
       "LoanSeqNum             object\n",
       "LoanPurpose            object\n",
       "OrigLoanTerm            int64\n",
       "NumBorrowers           object\n",
       "SellerName             object\n",
       "ServicerName           object\n",
       "EverDelinquent          int64\n",
       "MonthsDelinquent        int64\n",
       "MonthsInRepayment       int64\n",
       "dtype: object"
      ]
     },
     "execution_count": 17,
     "metadata": {},
     "output_type": "execute_result"
    }
   ],
   "source": [
    "data.dtypes"
   ]
  },
  {
   "cell_type": "markdown",
   "id": "4e0c515d",
   "metadata": {},
   "source": [
    "##### Correcting data types\n",
    "Formatting Date"
   ]
  },
  {
   "cell_type": "code",
   "execution_count": 18,
   "id": "68da6f36",
   "metadata": {},
   "outputs": [],
   "source": [
    "data['FirstPaymentDate'] = pd.to_datetime(data['FirstPaymentDate'], format='%Y%m')\n",
    "data['MaturityDate'] = pd.to_datetime(data['MaturityDate'], format='%Y%m')"
   ]
  },
  {
   "cell_type": "code",
   "execution_count": 19,
   "id": "4aeabbeb",
   "metadata": {},
   "outputs": [
    {
     "name": "stdout",
     "output_type": "stream",
     "text": [
      "FirstTimeHomebuyer : ['N' 'X' 'Y']\n",
      "Occupancy : ['O' 'I' 'S']\n",
      "ProductType : ['FRM  ']\n",
      "PropertyState : ['IL' 'CO' 'KS' 'CA' 'NJ' 'WI' 'FL' 'CT' 'GA' 'TX' 'MD' 'MA' 'SC' 'WY'\n",
      " 'NC' 'AZ' 'IN' 'MS' 'NY' 'WA' 'AR' 'VA' 'MN' 'LA' 'PA' 'OR' 'RI' 'UT'\n",
      " 'MI' 'TN' 'AL' 'MO' 'IA' 'NM' 'NV' 'VT' 'OH' 'NE' 'HI' 'ID' 'PR' 'DC'\n",
      " 'GU' 'KY' 'NH' 'SD' 'ME' 'MT' 'OK' 'WV' 'DE' 'ND' 'AK']\n",
      "PropertyType : ['SF' 'PU' 'CO' 'MH' 'CP' 'LH' 'X ']\n",
      "LoanPurpose : ['P' 'N' 'C']\n",
      "SellerName : ['Ot']\n",
      "ServicerName : ['WASHINGTONMUTUALBANK' 'CHASEHOMEFINANCELLC ' 'GMACMTGECORP        '\n",
      " 'Other servicers     ' 'WELLSFARGOBANKNA   ' 'ABNAMROMTGEGROUPINC'\n",
      " 'BANKOFAMERICANA    ' 'CHASEMANHATTANMTGECO' 'HOMESIDELENDINGINC '\n",
      " 'CHASEMTGECO         ' 'WELLSFARGOHOMEMORTGA' 'PRINCIPALRESIDENTIAL'\n",
      " 'CITIMORTGAGEINC    ' 'JPMORGANCHASEBANKNA' 'BAMORTGAGELLC      '\n",
      " 'NATLCITYMTGECO      ' 'FTMTGESERVICESINC  ' 'SUNTRUSTMORTGAGEINC'\n",
      " 'COUNTRYWIDE         ' 'FIFTHTHIRDBANK      ']\n",
      "NumBorrowers : ['2' '1' 'X ']\n",
      "PPM : ['N' 'X' 'Y']\n",
      "Channel : ['T' 'R' 'C' 'B']\n"
     ]
    }
   ],
   "source": [
    "categorical_columns = ['FirstTimeHomebuyer', 'Occupancy', 'ProductType', 'PropertyState', 'PropertyType', 'LoanPurpose', 'SellerName', 'ServicerName','NumBorrowers','PPM','Channel']\n",
    "for items in categorical_columns:\n",
    "    if items in data.columns:\n",
    "        print(f'{items} : {data[items].unique()}')\n",
    "    else:\n",
    "        print(f'Column {items} is not available in the dataset.')"
   ]
  },
  {
   "cell_type": "code",
   "execution_count": 20,
   "id": "aeb0d1c9",
   "metadata": {},
   "outputs": [
    {
     "name": "stdout",
     "output_type": "stream",
     "text": [
      "Number of values in MSA column with 'X    ': 39100\n"
     ]
    }
   ],
   "source": [
    "x_count = data['MSA'].value_counts().get('X    ', 0)\n",
    "print(f\"Number of values in MSA column with 'X    ': {x_count}\")\n",
    "\n",
    "data['MSA'] = data['MSA'].str.strip()\n",
    "data['MSA'] = pd.to_numeric(data['MSA'], errors='coerce')\n",
    "data['MSA'].fillna(data['MSA'].mode().iloc[0], inplace=True)"
   ]
  },
  {
   "cell_type": "code",
   "execution_count": 21,
   "id": "9bac4c56",
   "metadata": {},
   "outputs": [],
   "source": [
    "from sklearn.preprocessing import LabelEncoder\n",
    "le = LabelEncoder()\n",
    "for items in categorical_columns:\n",
    "    data[items] = le.fit_transform(data[items])"
   ]
  },
  {
   "cell_type": "code",
   "execution_count": 22,
   "id": "86f134a2",
   "metadata": {},
   "outputs": [
    {
     "data": {
      "text/plain": [
       "CreditScore                    int64\n",
       "FirstPaymentDate      datetime64[ns]\n",
       "FirstTimeHomebuyer             int32\n",
       "MaturityDate          datetime64[ns]\n",
       "MSA                          float64\n",
       "MIP                            int64\n",
       "Units                          int64\n",
       "Occupancy                      int32\n",
       "OCLTV                          int64\n",
       "DTI                            int64\n",
       "OrigUPB                        int64\n",
       "LTV                            int64\n",
       "OrigInterestRate             float64\n",
       "Channel                        int32\n",
       "PPM                            int32\n",
       "ProductType                    int32\n",
       "PropertyState                  int32\n",
       "PropertyType                   int32\n",
       "PostalCode                    object\n",
       "LoanSeqNum                    object\n",
       "LoanPurpose                    int32\n",
       "OrigLoanTerm                   int64\n",
       "NumBorrowers                   int32\n",
       "SellerName                     int32\n",
       "ServicerName                   int32\n",
       "EverDelinquent                 int64\n",
       "MonthsDelinquent               int64\n",
       "MonthsInRepayment              int64\n",
       "dtype: object"
      ]
     },
     "execution_count": 22,
     "metadata": {},
     "output_type": "execute_result"
    }
   ],
   "source": [
    "data.dtypes"
   ]
  },
  {
   "cell_type": "code",
   "execution_count": null,
   "id": "105f8394",
   "metadata": {},
   "outputs": [
    {
     "ename": "KeyboardInterrupt",
     "evalue": "",
     "output_type": "error",
     "traceback": [
      "\u001b[1;31m---------------------------------------------------------------------------\u001b[0m",
      "\u001b[1;31mKeyboardInterrupt\u001b[0m                         Traceback (most recent call last)",
      "Cell \u001b[1;32mIn[27], line 4\u001b[0m\n\u001b[0;32m      1\u001b[0m corr \u001b[38;5;241m=\u001b[39m data\u001b[38;5;241m.\u001b[39mdrop(columns\u001b[38;5;241m=\u001b[39m[\u001b[38;5;124m'\u001b[39m\u001b[38;5;124mPostalCode\u001b[39m\u001b[38;5;124m'\u001b[39m,\u001b[38;5;124m'\u001b[39m\u001b[38;5;124mLoanSeqNum\u001b[39m\u001b[38;5;124m'\u001b[39m,\u001b[38;5;124m'\u001b[39m\u001b[38;5;124mFirstPaymentDate\u001b[39m\u001b[38;5;124m'\u001b[39m,\u001b[38;5;124m'\u001b[39m\u001b[38;5;124mMaturityDate\u001b[39m\u001b[38;5;124m'\u001b[39m])\n\u001b[0;32m      3\u001b[0m plt\u001b[38;5;241m.\u001b[39mfigure(figsize\u001b[38;5;241m=\u001b[39m(\u001b[38;5;241m20\u001b[39m, \u001b[38;5;241m15\u001b[39m))  \n\u001b[1;32m----> 4\u001b[0m \u001b[43msns\u001b[49m\u001b[38;5;241;43m.\u001b[39;49m\u001b[43mheatmap\u001b[49m\u001b[43m(\u001b[49m\u001b[43mcorr\u001b[49m\u001b[43m,\u001b[49m\u001b[43m \u001b[49m\u001b[43mannot\u001b[49m\u001b[38;5;241;43m=\u001b[39;49m\u001b[38;5;28;43;01mTrue\u001b[39;49;00m\u001b[43m,\u001b[49m\u001b[43m \u001b[49m\u001b[43mcmap\u001b[49m\u001b[38;5;241;43m=\u001b[39;49m\u001b[38;5;124;43m'\u001b[39;49m\u001b[38;5;124;43mcoolwarm\u001b[39;49m\u001b[38;5;124;43m'\u001b[39;49m\u001b[43m,\u001b[49m\u001b[43m \u001b[49m\u001b[43mfmt\u001b[49m\u001b[38;5;241;43m=\u001b[39;49m\u001b[38;5;124;43m'\u001b[39;49m\u001b[38;5;124;43m.2f\u001b[39;49m\u001b[38;5;124;43m'\u001b[39;49m\u001b[43m,\u001b[49m\u001b[43m \u001b[49m\u001b[43mlinewidths\u001b[49m\u001b[38;5;241;43m=\u001b[39;49m\u001b[38;5;241;43m0.5\u001b[39;49m\u001b[43m)\u001b[49m\n\u001b[0;32m      6\u001b[0m plt\u001b[38;5;241m.\u001b[39mtitle(\u001b[38;5;124m'\u001b[39m\u001b[38;5;124mCorrelation Heatmap\u001b[39m\u001b[38;5;124m'\u001b[39m)\n\u001b[0;32m      7\u001b[0m plt\u001b[38;5;241m.\u001b[39mshow()\n",
      "File \u001b[1;32m~\\.conda\\envs\\gpu\\lib\\site-packages\\seaborn\\matrix.py:459\u001b[0m, in \u001b[0;36mheatmap\u001b[1;34m(data, vmin, vmax, cmap, center, robust, annot, fmt, annot_kws, linewidths, linecolor, cbar, cbar_kws, cbar_ax, square, xticklabels, yticklabels, mask, ax, **kwargs)\u001b[0m\n\u001b[0;32m    457\u001b[0m \u001b[38;5;28;01mif\u001b[39;00m square:\n\u001b[0;32m    458\u001b[0m     ax\u001b[38;5;241m.\u001b[39mset_aspect(\u001b[38;5;124m\"\u001b[39m\u001b[38;5;124mequal\u001b[39m\u001b[38;5;124m\"\u001b[39m)\n\u001b[1;32m--> 459\u001b[0m \u001b[43mplotter\u001b[49m\u001b[38;5;241;43m.\u001b[39;49m\u001b[43mplot\u001b[49m\u001b[43m(\u001b[49m\u001b[43max\u001b[49m\u001b[43m,\u001b[49m\u001b[43m \u001b[49m\u001b[43mcbar_ax\u001b[49m\u001b[43m,\u001b[49m\u001b[43m \u001b[49m\u001b[43mkwargs\u001b[49m\u001b[43m)\u001b[49m\n\u001b[0;32m    460\u001b[0m \u001b[38;5;28;01mreturn\u001b[39;00m ax\n",
      "File \u001b[1;32m~\\.conda\\envs\\gpu\\lib\\site-packages\\seaborn\\matrix.py:352\u001b[0m, in \u001b[0;36m_HeatMapper.plot\u001b[1;34m(self, ax, cax, kws)\u001b[0m\n\u001b[0;32m    350\u001b[0m \u001b[38;5;66;03m# Annotate the cells with the formatted values\u001b[39;00m\n\u001b[0;32m    351\u001b[0m \u001b[38;5;28;01mif\u001b[39;00m \u001b[38;5;28mself\u001b[39m\u001b[38;5;241m.\u001b[39mannot:\n\u001b[1;32m--> 352\u001b[0m     \u001b[38;5;28;43mself\u001b[39;49m\u001b[38;5;241;43m.\u001b[39;49m\u001b[43m_annotate_heatmap\u001b[49m\u001b[43m(\u001b[49m\u001b[43max\u001b[49m\u001b[43m,\u001b[49m\u001b[43m \u001b[49m\u001b[43mmesh\u001b[49m\u001b[43m)\u001b[49m\n",
      "File \u001b[1;32m~\\.conda\\envs\\gpu\\lib\\site-packages\\seaborn\\matrix.py:263\u001b[0m, in \u001b[0;36m_HeatMapper._annotate_heatmap\u001b[1;34m(self, ax, mesh)\u001b[0m\n\u001b[0;32m    261\u001b[0m text_kwargs \u001b[38;5;241m=\u001b[39m \u001b[38;5;28mdict\u001b[39m(color\u001b[38;5;241m=\u001b[39mtext_color, ha\u001b[38;5;241m=\u001b[39m\u001b[38;5;124m\"\u001b[39m\u001b[38;5;124mcenter\u001b[39m\u001b[38;5;124m\"\u001b[39m, va\u001b[38;5;241m=\u001b[39m\u001b[38;5;124m\"\u001b[39m\u001b[38;5;124mcenter\u001b[39m\u001b[38;5;124m\"\u001b[39m)\n\u001b[0;32m    262\u001b[0m text_kwargs\u001b[38;5;241m.\u001b[39mupdate(\u001b[38;5;28mself\u001b[39m\u001b[38;5;241m.\u001b[39mannot_kws)\n\u001b[1;32m--> 263\u001b[0m ax\u001b[38;5;241m.\u001b[39mtext(x, y, annotation, \u001b[38;5;241m*\u001b[39m\u001b[38;5;241m*\u001b[39mtext_kwargs)\n",
      "File \u001b[1;32m~\\.conda\\envs\\gpu\\lib\\site-packages\\matplotlib\\axes\\_axes.py:702\u001b[0m, in \u001b[0;36mAxes.text\u001b[1;34m(self, x, y, s, fontdict, **kwargs)\u001b[0m\n\u001b[0;32m    700\u001b[0m t \u001b[38;5;241m=\u001b[39m mtext\u001b[38;5;241m.\u001b[39mText(x, y, text\u001b[38;5;241m=\u001b[39ms, \u001b[38;5;241m*\u001b[39m\u001b[38;5;241m*\u001b[39meffective_kwargs)\n\u001b[0;32m    701\u001b[0m \u001b[38;5;28;01mif\u001b[39;00m t\u001b[38;5;241m.\u001b[39mget_clip_path() \u001b[38;5;129;01mis\u001b[39;00m \u001b[38;5;28;01mNone\u001b[39;00m:\n\u001b[1;32m--> 702\u001b[0m     \u001b[43mt\u001b[49m\u001b[38;5;241;43m.\u001b[39;49m\u001b[43mset_clip_path\u001b[49m\u001b[43m(\u001b[49m\u001b[38;5;28;43mself\u001b[39;49m\u001b[38;5;241;43m.\u001b[39;49m\u001b[43mpatch\u001b[49m\u001b[43m)\u001b[49m\n\u001b[0;32m    703\u001b[0m \u001b[38;5;28mself\u001b[39m\u001b[38;5;241m.\u001b[39m_add_text(t)\n\u001b[0;32m    704\u001b[0m \u001b[38;5;28;01mreturn\u001b[39;00m t\n",
      "File \u001b[1;32m~\\.conda\\envs\\gpu\\lib\\site-packages\\matplotlib\\text.py:593\u001b[0m, in \u001b[0;36mText.set_clip_path\u001b[1;34m(self, path, transform)\u001b[0m\n\u001b[0;32m    591\u001b[0m \u001b[38;5;28;01mdef\u001b[39;00m \u001b[38;5;21mset_clip_path\u001b[39m(\u001b[38;5;28mself\u001b[39m, path, transform\u001b[38;5;241m=\u001b[39m\u001b[38;5;28;01mNone\u001b[39;00m):\n\u001b[0;32m    592\u001b[0m     \u001b[38;5;66;03m# docstring inherited.\u001b[39;00m\n\u001b[1;32m--> 593\u001b[0m     \u001b[38;5;28;43msuper\u001b[39;49m\u001b[43m(\u001b[49m\u001b[43m)\u001b[49m\u001b[38;5;241;43m.\u001b[39;49m\u001b[43mset_clip_path\u001b[49m\u001b[43m(\u001b[49m\u001b[43mpath\u001b[49m\u001b[43m,\u001b[49m\u001b[43m \u001b[49m\u001b[43mtransform\u001b[49m\u001b[43m)\u001b[49m\n\u001b[0;32m    594\u001b[0m     \u001b[38;5;28mself\u001b[39m\u001b[38;5;241m.\u001b[39m_update_clip_properties()\n",
      "File \u001b[1;32m~\\.conda\\envs\\gpu\\lib\\site-packages\\matplotlib\\artist.py:802\u001b[0m, in \u001b[0;36mArtist.set_clip_path\u001b[1;34m(self, path, transform)\u001b[0m\n\u001b[0;32m    800\u001b[0m \u001b[38;5;28;01mif\u001b[39;00m transform \u001b[38;5;129;01mis\u001b[39;00m \u001b[38;5;28;01mNone\u001b[39;00m:\n\u001b[0;32m    801\u001b[0m     \u001b[38;5;28;01mif\u001b[39;00m \u001b[38;5;28misinstance\u001b[39m(path, Rectangle):\n\u001b[1;32m--> 802\u001b[0m         \u001b[38;5;28mself\u001b[39m\u001b[38;5;241m.\u001b[39mclipbox \u001b[38;5;241m=\u001b[39m TransformedBbox(\u001b[43mBbox\u001b[49m\u001b[38;5;241;43m.\u001b[39;49m\u001b[43munit\u001b[49m\u001b[43m(\u001b[49m\u001b[43m)\u001b[49m,\n\u001b[0;32m    803\u001b[0m                                        path\u001b[38;5;241m.\u001b[39mget_transform())\n\u001b[0;32m    804\u001b[0m         \u001b[38;5;28mself\u001b[39m\u001b[38;5;241m.\u001b[39m_clippath \u001b[38;5;241m=\u001b[39m \u001b[38;5;28;01mNone\u001b[39;00m\n\u001b[0;32m    805\u001b[0m         success \u001b[38;5;241m=\u001b[39m \u001b[38;5;28;01mTrue\u001b[39;00m\n",
      "File \u001b[1;32m~\\.conda\\envs\\gpu\\lib\\site-packages\\matplotlib\\transforms.py:797\u001b[0m, in \u001b[0;36mBbox.unit\u001b[1;34m()\u001b[0m\n\u001b[0;32m    794\u001b[0m \u001b[38;5;129m@staticmethod\u001b[39m\n\u001b[0;32m    795\u001b[0m \u001b[38;5;28;01mdef\u001b[39;00m \u001b[38;5;21munit\u001b[39m():\n\u001b[0;32m    796\u001b[0m \u001b[38;5;250m    \u001b[39m\u001b[38;5;124;03m\"\"\"Create a new unit `Bbox` from (0, 0) to (1, 1).\"\"\"\u001b[39;00m\n\u001b[1;32m--> 797\u001b[0m     \u001b[38;5;28;01mreturn\u001b[39;00m \u001b[43mBbox\u001b[49m\u001b[43m(\u001b[49m\u001b[43m[\u001b[49m\u001b[43m[\u001b[49m\u001b[38;5;241;43m0\u001b[39;49m\u001b[43m,\u001b[49m\u001b[43m \u001b[49m\u001b[38;5;241;43m0\u001b[39;49m\u001b[43m]\u001b[49m\u001b[43m,\u001b[49m\u001b[43m \u001b[49m\u001b[43m[\u001b[49m\u001b[38;5;241;43m1\u001b[39;49m\u001b[43m,\u001b[49m\u001b[43m \u001b[49m\u001b[38;5;241;43m1\u001b[39;49m\u001b[43m]\u001b[49m\u001b[43m]\u001b[49m\u001b[43m)\u001b[49m\n",
      "File \u001b[1;32m~\\.conda\\envs\\gpu\\lib\\site-packages\\matplotlib\\transforms.py:771\u001b[0m, in \u001b[0;36mBbox.__init__\u001b[1;34m(self, points, **kwargs)\u001b[0m\n\u001b[0;32m    768\u001b[0m     \u001b[38;5;28;01mraise\u001b[39;00m \u001b[38;5;167;01mValueError\u001b[39;00m(\u001b[38;5;124m'\u001b[39m\u001b[38;5;124mBbox points must be of the form \u001b[39m\u001b[38;5;124m'\u001b[39m\n\u001b[0;32m    769\u001b[0m                      \u001b[38;5;124m'\u001b[39m\u001b[38;5;124m\"\u001b[39m\u001b[38;5;124m[[x0, y0], [x1, y1]]\u001b[39m\u001b[38;5;124m\"\u001b[39m\u001b[38;5;124m.\u001b[39m\u001b[38;5;124m'\u001b[39m)\n\u001b[0;32m    770\u001b[0m \u001b[38;5;28mself\u001b[39m\u001b[38;5;241m.\u001b[39m_points \u001b[38;5;241m=\u001b[39m points\n\u001b[1;32m--> 771\u001b[0m \u001b[38;5;28mself\u001b[39m\u001b[38;5;241m.\u001b[39m_minpos \u001b[38;5;241m=\u001b[39m \u001b[43m_default_minpos\u001b[49m\u001b[38;5;241;43m.\u001b[39;49m\u001b[43mcopy\u001b[49m\u001b[43m(\u001b[49m\u001b[43m)\u001b[49m\n\u001b[0;32m    772\u001b[0m \u001b[38;5;28mself\u001b[39m\u001b[38;5;241m.\u001b[39m_ignore \u001b[38;5;241m=\u001b[39m \u001b[38;5;28;01mTrue\u001b[39;00m\n\u001b[0;32m    773\u001b[0m \u001b[38;5;66;03m# it is helpful in some contexts to know if the bbox is a\u001b[39;00m\n\u001b[0;32m    774\u001b[0m \u001b[38;5;66;03m# default or has been mutated; we store the orig points to\u001b[39;00m\n\u001b[0;32m    775\u001b[0m \u001b[38;5;66;03m# support the mutated methods\u001b[39;00m\n",
      "\u001b[1;31mKeyboardInterrupt\u001b[0m: "
     ]
    }
   ],
   "source": [
    "corr = data.drop(columns=['PostalCode','LoanSeqNum','FirstPaymentDate','MaturityDate'])\n",
    "\n",
    "plt.figure(figsize=(20, 15))  \n",
    "sns.heatmap(corr, annot=True, cmap='coolwarm', fmt='.2f', linewidths=0.5)\n",
    "\n",
    "plt.title('Correlation Heatmap')\n",
    "plt.show()"
   ]
  },
  {
   "cell_type": "code",
   "execution_count": null,
   "id": "e0232a0e",
   "metadata": {},
   "outputs": [],
   "source": []
  },
  {
   "cell_type": "markdown",
   "id": "fc45f95f",
   "metadata": {},
   "source": [
    "## Model Building"
   ]
  },
  {
   "cell_type": "markdown",
   "id": "5d1940da",
   "metadata": {},
   "source": [
    "so *seller name* and *product type* is useless as it has same values so dropping will be better option"
   ]
  },
  {
   "cell_type": "code",
   "execution_count": 24,
   "id": "6bec835e",
   "metadata": {},
   "outputs": [],
   "source": [
    "data.drop(columns=['ProductType','SellerName','LoanSeqNum','PostalCode'],inplace=True)"
   ]
  },
  {
   "cell_type": "code",
   "execution_count": 25,
   "id": "35b2d8a5",
   "metadata": {},
   "outputs": [],
   "source": [
    "# Feature engineering\n",
    "data['LoanTermRemaining'] = data['MaturityDate'].dt.year - data['FirstPaymentDate'].dt.year"
   ]
  },
  {
   "cell_type": "code",
   "execution_count": 26,
   "id": "6db91d2a",
   "metadata": {},
   "outputs": [
    {
     "data": {
      "text/html": [
       "<div>\n",
       "<style scoped>\n",
       "    .dataframe tbody tr th:only-of-type {\n",
       "        vertical-align: middle;\n",
       "    }\n",
       "\n",
       "    .dataframe tbody tr th {\n",
       "        vertical-align: top;\n",
       "    }\n",
       "\n",
       "    .dataframe thead th {\n",
       "        text-align: right;\n",
       "    }\n",
       "</style>\n",
       "<table border=\"1\" class=\"dataframe\">\n",
       "  <thead>\n",
       "    <tr style=\"text-align: right;\">\n",
       "      <th></th>\n",
       "      <th>CreditScore</th>\n",
       "      <th>FirstPaymentDate</th>\n",
       "      <th>FirstTimeHomebuyer</th>\n",
       "      <th>MaturityDate</th>\n",
       "      <th>MSA</th>\n",
       "      <th>MIP</th>\n",
       "      <th>Units</th>\n",
       "      <th>Occupancy</th>\n",
       "      <th>OCLTV</th>\n",
       "      <th>DTI</th>\n",
       "      <th>...</th>\n",
       "      <th>PropertyState</th>\n",
       "      <th>PropertyType</th>\n",
       "      <th>LoanPurpose</th>\n",
       "      <th>OrigLoanTerm</th>\n",
       "      <th>NumBorrowers</th>\n",
       "      <th>ServicerName</th>\n",
       "      <th>EverDelinquent</th>\n",
       "      <th>MonthsDelinquent</th>\n",
       "      <th>MonthsInRepayment</th>\n",
       "      <th>LoanTermRemaining</th>\n",
       "    </tr>\n",
       "  </thead>\n",
       "  <tbody>\n",
       "    <tr>\n",
       "      <th>0</th>\n",
       "      <td>0</td>\n",
       "      <td>1999-02-01</td>\n",
       "      <td>0</td>\n",
       "      <td>2029-01-01</td>\n",
       "      <td>16974.0</td>\n",
       "      <td>25</td>\n",
       "      <td>1</td>\n",
       "      <td>1</td>\n",
       "      <td>89</td>\n",
       "      <td>27</td>\n",
       "      <td>...</td>\n",
       "      <td>15</td>\n",
       "      <td>5</td>\n",
       "      <td>2</td>\n",
       "      <td>360</td>\n",
       "      <td>1</td>\n",
       "      <td>17</td>\n",
       "      <td>0</td>\n",
       "      <td>0</td>\n",
       "      <td>52</td>\n",
       "      <td>30</td>\n",
       "    </tr>\n",
       "    <tr>\n",
       "      <th>1</th>\n",
       "      <td>0</td>\n",
       "      <td>1999-02-01</td>\n",
       "      <td>0</td>\n",
       "      <td>2029-01-01</td>\n",
       "      <td>19740.0</td>\n",
       "      <td>0</td>\n",
       "      <td>1</td>\n",
       "      <td>1</td>\n",
       "      <td>73</td>\n",
       "      <td>17</td>\n",
       "      <td>...</td>\n",
       "      <td>5</td>\n",
       "      <td>5</td>\n",
       "      <td>1</td>\n",
       "      <td>360</td>\n",
       "      <td>0</td>\n",
       "      <td>3</td>\n",
       "      <td>0</td>\n",
       "      <td>0</td>\n",
       "      <td>144</td>\n",
       "      <td>30</td>\n",
       "    </tr>\n",
       "    <tr>\n",
       "      <th>2</th>\n",
       "      <td>0</td>\n",
       "      <td>1999-02-01</td>\n",
       "      <td>0</td>\n",
       "      <td>2029-01-01</td>\n",
       "      <td>29940.0</td>\n",
       "      <td>0</td>\n",
       "      <td>1</td>\n",
       "      <td>1</td>\n",
       "      <td>75</td>\n",
       "      <td>16</td>\n",
       "      <td>...</td>\n",
       "      <td>17</td>\n",
       "      <td>5</td>\n",
       "      <td>1</td>\n",
       "      <td>360</td>\n",
       "      <td>1</td>\n",
       "      <td>17</td>\n",
       "      <td>0</td>\n",
       "      <td>0</td>\n",
       "      <td>67</td>\n",
       "      <td>30</td>\n",
       "    </tr>\n",
       "    <tr>\n",
       "      <th>3</th>\n",
       "      <td>0</td>\n",
       "      <td>1999-02-01</td>\n",
       "      <td>0</td>\n",
       "      <td>2029-01-01</td>\n",
       "      <td>31084.0</td>\n",
       "      <td>0</td>\n",
       "      <td>1</td>\n",
       "      <td>1</td>\n",
       "      <td>76</td>\n",
       "      <td>14</td>\n",
       "      <td>...</td>\n",
       "      <td>4</td>\n",
       "      <td>5</td>\n",
       "      <td>1</td>\n",
       "      <td>360</td>\n",
       "      <td>1</td>\n",
       "      <td>10</td>\n",
       "      <td>0</td>\n",
       "      <td>0</td>\n",
       "      <td>35</td>\n",
       "      <td>30</td>\n",
       "    </tr>\n",
       "    <tr>\n",
       "      <th>4</th>\n",
       "      <td>0</td>\n",
       "      <td>1999-02-01</td>\n",
       "      <td>0</td>\n",
       "      <td>2029-01-01</td>\n",
       "      <td>35644.0</td>\n",
       "      <td>0</td>\n",
       "      <td>1</td>\n",
       "      <td>1</td>\n",
       "      <td>78</td>\n",
       "      <td>18</td>\n",
       "      <td>...</td>\n",
       "      <td>32</td>\n",
       "      <td>5</td>\n",
       "      <td>1</td>\n",
       "      <td>360</td>\n",
       "      <td>1</td>\n",
       "      <td>10</td>\n",
       "      <td>0</td>\n",
       "      <td>0</td>\n",
       "      <td>54</td>\n",
       "      <td>30</td>\n",
       "    </tr>\n",
       "    <tr>\n",
       "      <th>...</th>\n",
       "      <td>...</td>\n",
       "      <td>...</td>\n",
       "      <td>...</td>\n",
       "      <td>...</td>\n",
       "      <td>...</td>\n",
       "      <td>...</td>\n",
       "      <td>...</td>\n",
       "      <td>...</td>\n",
       "      <td>...</td>\n",
       "      <td>...</td>\n",
       "      <td>...</td>\n",
       "      <td>...</td>\n",
       "      <td>...</td>\n",
       "      <td>...</td>\n",
       "      <td>...</td>\n",
       "      <td>...</td>\n",
       "      <td>...</td>\n",
       "      <td>...</td>\n",
       "      <td>...</td>\n",
       "      <td>...</td>\n",
       "      <td>...</td>\n",
       "    </tr>\n",
       "    <tr>\n",
       "      <th>291446</th>\n",
       "      <td>839</td>\n",
       "      <td>1999-03-01</td>\n",
       "      <td>0</td>\n",
       "      <td>2029-02-01</td>\n",
       "      <td>37964.0</td>\n",
       "      <td>0</td>\n",
       "      <td>1</td>\n",
       "      <td>1</td>\n",
       "      <td>60</td>\n",
       "      <td>32</td>\n",
       "      <td>...</td>\n",
       "      <td>39</td>\n",
       "      <td>5</td>\n",
       "      <td>1</td>\n",
       "      <td>360</td>\n",
       "      <td>1</td>\n",
       "      <td>14</td>\n",
       "      <td>0</td>\n",
       "      <td>0</td>\n",
       "      <td>12</td>\n",
       "      <td>30</td>\n",
       "    </tr>\n",
       "    <tr>\n",
       "      <th>291447</th>\n",
       "      <td>840</td>\n",
       "      <td>2002-10-01</td>\n",
       "      <td>0</td>\n",
       "      <td>2029-04-01</td>\n",
       "      <td>35644.0</td>\n",
       "      <td>0</td>\n",
       "      <td>1</td>\n",
       "      <td>1</td>\n",
       "      <td>73</td>\n",
       "      <td>0</td>\n",
       "      <td>...</td>\n",
       "      <td>35</td>\n",
       "      <td>5</td>\n",
       "      <td>2</td>\n",
       "      <td>319</td>\n",
       "      <td>1</td>\n",
       "      <td>14</td>\n",
       "      <td>0</td>\n",
       "      <td>0</td>\n",
       "      <td>53</td>\n",
       "      <td>27</td>\n",
       "    </tr>\n",
       "    <tr>\n",
       "      <th>291448</th>\n",
       "      <td>840</td>\n",
       "      <td>2003-04-01</td>\n",
       "      <td>0</td>\n",
       "      <td>2029-04-01</td>\n",
       "      <td>42044.0</td>\n",
       "      <td>0</td>\n",
       "      <td>1</td>\n",
       "      <td>1</td>\n",
       "      <td>73</td>\n",
       "      <td>31</td>\n",
       "      <td>...</td>\n",
       "      <td>4</td>\n",
       "      <td>5</td>\n",
       "      <td>1</td>\n",
       "      <td>313</td>\n",
       "      <td>0</td>\n",
       "      <td>14</td>\n",
       "      <td>0</td>\n",
       "      <td>0</td>\n",
       "      <td>38</td>\n",
       "      <td>26</td>\n",
       "    </tr>\n",
       "    <tr>\n",
       "      <th>291449</th>\n",
       "      <td>845</td>\n",
       "      <td>1999-04-01</td>\n",
       "      <td>0</td>\n",
       "      <td>2029-03-01</td>\n",
       "      <td>37964.0</td>\n",
       "      <td>0</td>\n",
       "      <td>1</td>\n",
       "      <td>0</td>\n",
       "      <td>80</td>\n",
       "      <td>54</td>\n",
       "      <td>...</td>\n",
       "      <td>39</td>\n",
       "      <td>5</td>\n",
       "      <td>2</td>\n",
       "      <td>360</td>\n",
       "      <td>1</td>\n",
       "      <td>14</td>\n",
       "      <td>0</td>\n",
       "      <td>0</td>\n",
       "      <td>32</td>\n",
       "      <td>30</td>\n",
       "    </tr>\n",
       "    <tr>\n",
       "      <th>291450</th>\n",
       "      <td>849</td>\n",
       "      <td>1999-03-01</td>\n",
       "      <td>0</td>\n",
       "      <td>2029-02-01</td>\n",
       "      <td>37964.0</td>\n",
       "      <td>0</td>\n",
       "      <td>1</td>\n",
       "      <td>1</td>\n",
       "      <td>47</td>\n",
       "      <td>29</td>\n",
       "      <td>...</td>\n",
       "      <td>39</td>\n",
       "      <td>5</td>\n",
       "      <td>2</td>\n",
       "      <td>360</td>\n",
       "      <td>1</td>\n",
       "      <td>14</td>\n",
       "      <td>0</td>\n",
       "      <td>0</td>\n",
       "      <td>29</td>\n",
       "      <td>30</td>\n",
       "    </tr>\n",
       "  </tbody>\n",
       "</table>\n",
       "<p>291451 rows × 25 columns</p>\n",
       "</div>"
      ],
      "text/plain": [
       "        CreditScore FirstPaymentDate  FirstTimeHomebuyer MaturityDate  \\\n",
       "0                 0       1999-02-01                   0   2029-01-01   \n",
       "1                 0       1999-02-01                   0   2029-01-01   \n",
       "2                 0       1999-02-01                   0   2029-01-01   \n",
       "3                 0       1999-02-01                   0   2029-01-01   \n",
       "4                 0       1999-02-01                   0   2029-01-01   \n",
       "...             ...              ...                 ...          ...   \n",
       "291446          839       1999-03-01                   0   2029-02-01   \n",
       "291447          840       2002-10-01                   0   2029-04-01   \n",
       "291448          840       2003-04-01                   0   2029-04-01   \n",
       "291449          845       1999-04-01                   0   2029-03-01   \n",
       "291450          849       1999-03-01                   0   2029-02-01   \n",
       "\n",
       "            MSA  MIP  Units  Occupancy  OCLTV  DTI  ...  PropertyState  \\\n",
       "0       16974.0   25      1          1     89   27  ...             15   \n",
       "1       19740.0    0      1          1     73   17  ...              5   \n",
       "2       29940.0    0      1          1     75   16  ...             17   \n",
       "3       31084.0    0      1          1     76   14  ...              4   \n",
       "4       35644.0    0      1          1     78   18  ...             32   \n",
       "...         ...  ...    ...        ...    ...  ...  ...            ...   \n",
       "291446  37964.0    0      1          1     60   32  ...             39   \n",
       "291447  35644.0    0      1          1     73    0  ...             35   \n",
       "291448  42044.0    0      1          1     73   31  ...              4   \n",
       "291449  37964.0    0      1          0     80   54  ...             39   \n",
       "291450  37964.0    0      1          1     47   29  ...             39   \n",
       "\n",
       "        PropertyType  LoanPurpose  OrigLoanTerm  NumBorrowers  ServicerName  \\\n",
       "0                  5            2           360             1            17   \n",
       "1                  5            1           360             0             3   \n",
       "2                  5            1           360             1            17   \n",
       "3                  5            1           360             1            10   \n",
       "4                  5            1           360             1            10   \n",
       "...              ...          ...           ...           ...           ...   \n",
       "291446             5            1           360             1            14   \n",
       "291447             5            2           319             1            14   \n",
       "291448             5            1           313             0            14   \n",
       "291449             5            2           360             1            14   \n",
       "291450             5            2           360             1            14   \n",
       "\n",
       "        EverDelinquent  MonthsDelinquent  MonthsInRepayment  LoanTermRemaining  \n",
       "0                    0                 0                 52                 30  \n",
       "1                    0                 0                144                 30  \n",
       "2                    0                 0                 67                 30  \n",
       "3                    0                 0                 35                 30  \n",
       "4                    0                 0                 54                 30  \n",
       "...                ...               ...                ...                ...  \n",
       "291446               0                 0                 12                 30  \n",
       "291447               0                 0                 53                 27  \n",
       "291448               0                 0                 38                 26  \n",
       "291449               0                 0                 32                 30  \n",
       "291450               0                 0                 29                 30  \n",
       "\n",
       "[291451 rows x 25 columns]"
      ]
     },
     "execution_count": 26,
     "metadata": {},
     "output_type": "execute_result"
    }
   ],
   "source": [
    "data"
   ]
  },
  {
   "cell_type": "markdown",
   "id": "b78a4852",
   "metadata": {},
   "source": [
    "### Feature selection"
   ]
  },
  {
   "cell_type": "code",
   "execution_count": 29,
   "id": "fa9ad499",
   "metadata": {},
   "outputs": [],
   "source": [
    "X = data.drop(columns=['EverDelinquent','FirstPaymentDate','MaturityDate'])\n",
    "y = data.EverDelinquent"
   ]
  },
  {
   "cell_type": "code",
   "execution_count": 32,
   "id": "358b4784",
   "metadata": {},
   "outputs": [],
   "source": [
    "scaler = StandardScaler()\n",
    "X_scaled = scaler.fit_transform(X)"
   ]
  },
  {
   "cell_type": "code",
   "execution_count": 33,
   "id": "0dcce98b",
   "metadata": {},
   "outputs": [
    {
     "name": "stdout",
     "output_type": "stream",
     "text": [
      "Selected Features: [ True False False False False False  True  True False  True  True  True\n",
      " False False False  True False  True False  True  True False]\n"
     ]
    }
   ],
   "source": [
    "model = LogisticRegression(max_iter=1000)\n",
    "\n",
    "rfe = RFE(model, n_features_to_select=10)\n",
    "\n",
    "fit = rfe.fit(X_scaled, y)\n",
    "\n",
    "print(\"Selected Features:\", fit.support_)\n",
    "\n",
    "\n",
    "#df.to_csv('cleaned_data.csv', index=False)\n"
   ]
  },
  {
   "cell_type": "code",
   "execution_count": 34,
   "id": "2a1d4b2d",
   "metadata": {},
   "outputs": [
    {
     "name": "stdout",
     "output_type": "stream",
     "text": [
      "Selected Features: ['CreditScore', 'OCLTV', 'DTI', 'LTV', 'OrigInterestRate', 'Channel', 'LoanPurpose', 'NumBorrowers', 'MonthsDelinquent', 'MonthsInRepayment']\n"
     ]
    }
   ],
   "source": [
    "feature_names = X.columns.tolist()  \n",
    "selected_features = [name for name, selected in zip(feature_names, fit.support_) if selected]\n",
    "print(\"Selected Features:\", selected_features)"
   ]
  },
  {
   "cell_type": "markdown",
   "id": "aa72958f",
   "metadata": {},
   "source": [
    "##### Splitting data "
   ]
  },
  {
   "cell_type": "code",
   "execution_count": null,
   "id": "4e0d4388",
   "metadata": {},
   "outputs": [],
   "source": [
    "X_train, X_test, y_train, y_test = train_test_split(X[selected_features], y, test_size=0.3, random_state=42)"
   ]
  },
  {
   "cell_type": "markdown",
   "id": "cb8d1476",
   "metadata": {},
   "source": [
    "#### Logistic Regression"
   ]
  },
  {
   "cell_type": "code",
   "execution_count": 35,
   "id": "3ebf6d35",
   "metadata": {},
   "outputs": [],
   "source": [
    "model = LogisticRegression(max_iter=1000)\n",
    "\n",
    "model.fit(X_train, y_train)\n",
    "\n",
    "y_pred = model.predict(X_test)"
   ]
  },
  {
   "cell_type": "code",
   "execution_count": 40,
   "id": "8a0327ee",
   "metadata": {},
   "outputs": [
    {
     "name": "stdout",
     "output_type": "stream",
     "text": [
      "Confusion Matrix:\n",
      "[[70135     0]\n",
      " [    0 17301]]\n",
      "\n",
      "Accuracy Score: 1.0\n",
      "\n",
      "Classification Report:\n",
      "              precision    recall  f1-score   support\n",
      "\n",
      "           0       1.00      1.00      1.00     70135\n",
      "           1       1.00      1.00      1.00     17301\n",
      "\n",
      "    accuracy                           1.00     87436\n",
      "   macro avg       1.00      1.00      1.00     87436\n",
      "weighted avg       1.00      1.00      1.00     87436\n",
      "\n"
     ]
    }
   ],
   "source": [
    "conf_matrix = confusion_matrix(y_test, y_pred)\n",
    "accuracy = accuracy_score(y_test, y_pred)\n",
    "class_report = classification_report(y_test, y_pred)\n",
    "\n",
    "print(\"Confusion Matrix:\")\n",
    "print(conf_matrix)\n",
    "print(\"\\nAccuracy Score:\", accuracy)\n",
    "print(\"\\nClassification Report:\")\n",
    "print(class_report)"
   ]
  },
  {
   "cell_type": "markdown",
   "id": "e49b5efc",
   "metadata": {},
   "source": [
    "#### Random Forest Classifier"
   ]
  },
  {
   "cell_type": "code",
   "execution_count": 42,
   "id": "f1a53183",
   "metadata": {},
   "outputs": [
    {
     "name": "stdout",
     "output_type": "stream",
     "text": [
      "Confusion Matrix (Random Forest):\n",
      "[[70135     0]\n",
      " [    0 17301]]\n",
      "\n",
      "Accuracy Score (Random Forest): 1.0\n",
      "\n",
      "Classification Report (Random Forest):\n",
      "              precision    recall  f1-score   support\n",
      "\n",
      "           0       1.00      1.00      1.00     70135\n",
      "           1       1.00      1.00      1.00     17301\n",
      "\n",
      "    accuracy                           1.00     87436\n",
      "   macro avg       1.00      1.00      1.00     87436\n",
      "weighted avg       1.00      1.00      1.00     87436\n",
      "\n"
     ]
    }
   ],
   "source": [
    "rf_model = RandomForestClassifier(random_state=42)\n",
    "\n",
    "rf_model.fit(X_train, y_train)\n",
    "\n",
    "y_pred_rf = rf_model.predict(X_test)\n",
    "\n",
    "# Evaluate the model\n",
    "conf_matrix_rf = confusion_matrix(y_test, y_pred_rf)\n",
    "accuracy_rf = accuracy_score(y_test, y_pred_rf)\n",
    "class_report_rf = classification_report(y_test, y_pred_rf)\n",
    "\n",
    "print(\"Confusion Matrix (Random Forest):\")\n",
    "print(conf_matrix_rf)\n",
    "print(\"\\nAccuracy Score (Random Forest):\", accuracy_rf)\n",
    "print(\"\\nClassification Report (Random Forest):\")\n",
    "print(class_report_rf)\n"
   ]
  },
  {
   "cell_type": "code",
   "execution_count": 43,
   "id": "01c0c2f2",
   "metadata": {},
   "outputs": [
    {
     "name": "stdout",
     "output_type": "stream",
     "text": [
      "Logistic Regression Accuracy: 1.0\n",
      "[[70135     0]\n",
      " [    0 17301]]\n",
      "              precision    recall  f1-score   support\n",
      "\n",
      "           0       1.00      1.00      1.00     70135\n",
      "           1       1.00      1.00      1.00     17301\n",
      "\n",
      "    accuracy                           1.00     87436\n",
      "   macro avg       1.00      1.00      1.00     87436\n",
      "weighted avg       1.00      1.00      1.00     87436\n",
      "\n",
      "------------------------------------------------------------\n",
      "Random Forest Accuracy: 1.0\n",
      "[[70135     0]\n",
      " [    0 17301]]\n",
      "              precision    recall  f1-score   support\n",
      "\n",
      "           0       1.00      1.00      1.00     70135\n",
      "           1       1.00      1.00      1.00     17301\n",
      "\n",
      "    accuracy                           1.00     87436\n",
      "   macro avg       1.00      1.00      1.00     87436\n",
      "weighted avg       1.00      1.00      1.00     87436\n",
      "\n",
      "------------------------------------------------------------\n"
     ]
    }
   ],
   "source": [
    "classifiers = {\n",
    "    \"Logistic Regression\": LogisticRegression(max_iter=1000),\n",
    "    \"Random Forest\": RandomForestClassifier(random_state=42),\n",
    "    \n",
    "}\n",
    "\n",
    "for name, clf in classifiers.items():\n",
    "    clf.fit(X_train, y_train)\n",
    "    y_pred = clf.predict(X_test)\n",
    "    accuracy = accuracy_score(y_test, y_pred)\n",
    "    print(f\"{name} Accuracy: {accuracy}\")\n",
    "    print(confusion_matrix(y_test, y_pred))\n",
    "    print(classification_report(y_test, y_pred))\n",
    "    print(\"-\" * 60)\n"
   ]
  },
  {
   "cell_type": "code",
   "execution_count": 44,
   "id": "629ff0f1",
   "metadata": {},
   "outputs": [
    {
     "name": "stdout",
     "output_type": "stream",
     "text": [
      "Logistic Regression Cross-Validation Scores: [0.98516066 1.         1.         1.         1.        ]\n",
      "Average CV Score: 0.9970321318900002\n",
      "Random Forest Cross-Validation Scores: [1. 1. 1. 1. 1.]\n",
      "Average CV Score: 1.0\n"
     ]
    }
   ],
   "source": [
    "from sklearn.model_selection import cross_val_score\n",
    "\n",
    "# Perform cross-validation for Logistic Regression\n",
    "cv_scores_log = cross_val_score(model, X[selected_features], y, cv=5)\n",
    "print(\"Logistic Regression Cross-Validation Scores:\", cv_scores_log)\n",
    "print(\"Average CV Score:\", cv_scores_log.mean())\n",
    "\n",
    "# Perform cross-validation for Random Forest\n",
    "cv_scores_rf = cross_val_score(rf_model, X[selected_features], y, cv=5)\n",
    "print(\"Random Forest Cross-Validation Scores:\", cv_scores_rf)\n",
    "print(\"Average CV Score:\", cv_scores_rf.mean())\n"
   ]
  },
  {
   "cell_type": "code",
   "execution_count": 45,
   "id": "fab8dca4",
   "metadata": {},
   "outputs": [
    {
     "data": {
      "image/png": "[encoded data removed]",
      "text/plain": [
       "<Figure size 640x480 with 1 Axes>"
      ]
     },
     "metadata": {},
     "output_type": "display_data"
    }
   ],
   "source": [
    "import matplotlib.pyplot as plt\n",
    "\n",
    "feature_importances = rf_model.feature_importances_\n",
    "plt.barh(selected_features, feature_importances)\n",
    "plt.xlabel(\"Feature Importance\")\n",
    "plt.ylabel(\"Feature\")\n",
    "plt.show()\n"
   ]
  },
  {
   "cell_type": "code",
   "execution_count": null,
   "id": "f3a9ff32",
   "metadata": {},
   "outputs": [],
   "source": []
  },
  {
   "cell_type": "code",
   "execution_count": null,
   "id": "9e43e30b",
   "metadata": {},
   "outputs": [],
   "source": []
  },
  {
   "cell_type": "code",
   "execution_count": 47,
   "id": "0b2648f7",
   "metadata": {
    "scrolled": true
   },
   "outputs": [
    {
     "data": {
      "image/png": "[encoded data removed]",
      "text/plain": [
       "<Figure size 600x400 with 1 Axes>"
      ]
     },
     "metadata": {},
     "output_type": "display_data"
    }
   ],
   "source": [
    "plt.figure(figsize=(6, 4))\n",
    "plt.bar(['Training Set', 'Testing Set'], [len(X_train), len(X_test)], color=['blue', 'orange'])\n",
    "plt.ylabel('Number of Samples')\n",
    "plt.title('Training and Testing Set Split')\n",
    "plt.show()"
   ]
  },
  {
   "cell_type": "code",
   "execution_count": null,
   "id": "6c460383",
   "metadata": {},
   "outputs": [],
   "source": []
  }
 ],
 "metadata": {
  "kernelspec": {
   "display_name": "Python 3 (ipykernel)",
   "language": "python",
   "name": "python3"
  },
  "language_info": {
   "codemirror_mode": {
    "name": "ipython",
    "version": 3
   },
   "file_extension": ".py",
   "mimetype": "text/x-python",
   "name": "python",
   "nbconvert_exporter": "python",
   "pygments_lexer": "ipython3",
   "version": "3.10.13"
  }
 },
 "nbformat": 4,
 "nbformat_minor": 5
}
